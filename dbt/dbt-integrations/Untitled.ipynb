{
 "cells": [
  {
   "cell_type": "code",
   "execution_count": null,
   "id": "398f3f0b-5202-4f4f-96a3-6babbb759753",
   "metadata": {},
   "outputs": [],
   "source": []
  },
  {
   "cell_type": "markdown",
   "id": "1453aa62-e5d2-4467-8861-7a8ab3d1e40b",
   "metadata": {},
   "source": [
    "# Resources\n",
    "\n",
    "[Deduping records in int](https://blog.rittmananalytics.com/deduplicating-company-records-in-a-multi-source-data-centralization-project-using-dbt-google-b336a7ccfe61)"
   ]
  },
  {
   "cell_type": "markdown",
   "id": "faa8c723-e057-4099-ab2f-ed283967a527",
   "metadata": {},
   "source": [
    "[db_utils for fact tables](https://discourse.getdbt.com/t/generating-an-auto-incrementing-id-in-dbt/579/2)\n",
    "\n",
    "[How rittman does](https://rittmananalytics.com/blog/2020/5/28/introducing-the-ra-warehouse-dbt-framework-how-rittman-analytics-does-data-centralization)"
   ]
  }
 ],
 "metadata": {
  "kernelspec": {
   "display_name": "Python 3 (ipykernel)",
   "language": "python",
   "name": "python3"
  },
  "language_info": {
   "codemirror_mode": {
    "name": "ipython",
    "version": 3
   },
   "file_extension": ".py",
   "mimetype": "text/x-python",
   "name": "python",
   "nbconvert_exporter": "python",
   "pygments_lexer": "ipython3",
   "version": "3.9.7"
  }
 },
 "nbformat": 4,
 "nbformat_minor": 5
}
