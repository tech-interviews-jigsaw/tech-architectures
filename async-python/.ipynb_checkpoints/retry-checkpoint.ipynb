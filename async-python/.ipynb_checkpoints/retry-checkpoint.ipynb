{
 "cells": [
  {
   "cell_type": "markdown",
   "id": "5ea7e86e-2864-4995-89b6-a6212fa99606",
   "metadata": {},
   "source": [
    "# Asynchronous Programming"
   ]
  },
  {
   "cell_type": "markdown",
   "id": "3092fe4d-76e9-41f4-8c42-e33ff1e7e119",
   "metadata": {},
   "source": [
    "### Introduction\n",
    "\n",
    "When writing code that involves a good amount of waiting, we can implement asynchronous programming so that we no longer need to wait.  What's a task where we may need to wait -- well this will be something like making a request to an API, or scraping a website.  As we'll see, by using *asynchronous* programming, we can have Python move onto other tasks while it waits for the long running task to be completed."
   ]
  },
  {
   "cell_type": "markdown",
   "id": "d9892759-a8a9-4f34-ab62-ea2c104b0de6",
   "metadata": {},
   "source": [
    "### A Problem"
   ]
  },
  {
   "cell_type": "markdown",
   "id": "0828d42d-1af4-43f2-9c63-7d06180213cf",
   "metadata": {},
   "source": [
    "Let's look at the following example where we write code for calling two ."
   ]
  },
  {
   "cell_type": "code",
   "execution_count": 2,
   "id": "20835752-132b-4e99-88d4-e67c68f1662c",
   "metadata": {},
   "outputs": [
    {
     "name": "stdout",
     "output_type": "stream",
     "text": [
      "foursquare call started\n",
      "foursquare call finished\n",
      "spotify call started\n",
      "spotify call finished\n"
     ]
    }
   ],
   "source": [
    "import time\n",
    "def call_foursquare_api():\n",
    "    print(\"foursquare call started\")\n",
    "    time.sleep(2)\n",
    "    print(\"foursquare call finished\")\n",
    "    \n",
    "def call_spotify_api():\n",
    "    print(\"spotify call started\")\n",
    "    time.sleep(1)\n",
    "    print(\"spotify call finished\")\n",
    "    \n",
    "call_foursquare_api()\n",
    "call_spotify_api()"
   ]
  },
  {
   "cell_type": "markdown",
   "id": "63e245ed-bcbd-421e-9680-3d19c31179a6",
   "metadata": {},
   "source": [
    "As you can our tasks are issued one after the other.  First the foursquare call runs, and then then the spotify call runs.  Now let's add a couple new terms.  \n",
    "\n",
    "* Routine - A routine is just a Python program.  The entire set of lines above are a routine.\n",
    "\n",
    "* Subroutine - A subroutine is just a function in the program.  So both `call_foursquare_api` and `call_spotify_api` are subroutines.\n",
    "\n",
    "Our subroutines run sequentially.  One after the other.  So first our foursquare call completes and then our spotify call completes.  Now, normally this is precisely the order of operations we want.  Do one task, and then complete another.\n",
    "\n",
    "The problem occurs when there is a lot of waiting involved.  For example, in the example above, a Python thread waits for the first API call to complete, and then for the second one to complete.  What is our thread doing during that time -- well nothing.  "
   ]
  },
  {
   "cell_type": "markdown",
   "id": "6af3ab81-c59a-4030-b5b2-bdf3939d6d9a",
   "metadata": {},
   "source": [
    "### Introducing Coroutines"
   ]
  },
  {
   "cell_type": "markdown",
   "id": "2bac76f9-885e-4093-a06c-2cc4a7fac2df",
   "metadata": {},
   "source": [
    "This is where coroutines -- and asynchronous programming -- comes along.  Coroutines operate a little differently than our standard subroutines.  Whereas with a subroutine our Python thread completes one function and then another, no matter how long it waits for each to complete, with a coroutine Python can move onto other tasks while it waits.\n",
    "\n",
    "Let's see this below."
   ]
  },
  {
   "cell_type": "code",
   "execution_count": null,
   "id": "1beb2d5b-631c-4452-9b84-6bb1204240cd",
   "metadata": {},
   "outputs": [],
   "source": [
    "import asyncio\n",
    "\n",
    "async def foo():\n",
    "    print(\"Foo started\")\n",
    "    await asyncio.sleep(1)\n",
    "    print(\"Foo finished\")\n",
    "\n",
    "async def bar():\n",
    "    print(\"Bar started\")\n",
    "    await asyncio.sleep(2)\n",
    "    print(\"Bar finished\")\n",
    "\n",
    "async def main():\n",
    "    tasks = [foo(), bar()]\n",
    "    await asyncio.gather(*tasks)"
   ]
  }
 ],
 "metadata": {
  "kernelspec": {
   "display_name": "Python 3 (ipykernel)",
   "language": "python",
   "name": "python3"
  },
  "language_info": {
   "codemirror_mode": {
    "name": "ipython",
    "version": 3
   },
   "file_extension": ".py",
   "mimetype": "text/x-python",
   "name": "python",
   "nbconvert_exporter": "python",
   "pygments_lexer": "ipython3",
   "version": "3.9.12"
  }
 },
 "nbformat": 4,
 "nbformat_minor": 5
}
