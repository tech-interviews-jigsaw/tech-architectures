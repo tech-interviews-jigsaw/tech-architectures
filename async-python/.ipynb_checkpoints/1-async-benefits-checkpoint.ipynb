{
 "cells": [
  {
   "cell_type": "markdown",
   "id": "5ea7e86e-2864-4995-89b6-a6212fa99606",
   "metadata": {},
   "source": [
    "# The benefits of Asynchronous Programming"
   ]
  },
  {
   "cell_type": "markdown",
   "id": "3092fe4d-76e9-41f4-8c42-e33ff1e7e119",
   "metadata": {},
   "source": [
    "### Introduction\n",
    "\n",
    "When writing code that involves a good amount of waiting, we can implement asynchronous programming so that we can reduce this waiting time.  What's a task where we may need to wait -- well this will be something like making a request to an API, or scraping a website.  As we'll see, by using *asynchronous* programming, we can have our Python thread move onto other tasks so that it doesn't just sit there waiting."
   ]
  },
  {
   "cell_type": "markdown",
   "id": "d9892759-a8a9-4f34-ab62-ea2c104b0de6",
   "metadata": {},
   "source": [
    "### A Problem"
   ]
  },
  {
   "cell_type": "markdown",
   "id": "0828d42d-1af4-43f2-9c63-7d06180213cf",
   "metadata": {},
   "source": [
    "Let's look at the following example where we write code for calling two different apis -- or at least pretending to.\n",
    "\n",
    "> As we can see, each of the functions do not *really* call an api.  Instead, we use the sleep function as a way to pause during the time it may have taken to get a response from the api."
   ]
  },
  {
   "cell_type": "code",
   "execution_count": 1,
   "id": "20835752-132b-4e99-88d4-e67c68f1662c",
   "metadata": {},
   "outputs": [],
   "source": [
    "import time\n",
    "def call_foursquare_api():\n",
    "    print(\"foursquare call started\")\n",
    "    time.sleep(2)\n",
    "    print(\"foursquare call finished\")\n",
    "    \n",
    "def call_spotify_api():\n",
    "    print(\"spotify call started\")\n",
    "    time.sleep(1)\n",
    "    print(\"spotify call finished\")"
   ]
  },
  {
   "cell_type": "markdown",
   "id": "59dfc976-a899-413e-9db5-e83dbaeb911e",
   "metadata": {},
   "source": [
    "Ok, now let's try calling each of these functions."
   ]
  },
  {
   "cell_type": "code",
   "execution_count": 2,
   "id": "84b5ec94-f215-4ee5-84ba-85656983e4c5",
   "metadata": {},
   "outputs": [
    {
     "name": "stdout",
     "output_type": "stream",
     "text": [
      "foursquare call started\n",
      "foursquare call finished\n",
      "spotify call started\n",
      "spotify call finished\n"
     ]
    }
   ],
   "source": [
    "call_foursquare_api()\n",
    "call_spotify_api()"
   ]
  },
  {
   "cell_type": "markdown",
   "id": "63e245ed-bcbd-421e-9680-3d19c31179a6",
   "metadata": {},
   "source": [
    "As you can our tasks are issued one after the other.  First the foursquare call runs, and then then the spotify call runs.  Now let's add a couple new terms to how we can describe programming.  \n",
    "\n",
    "### Some new terms\n",
    "\n",
    "Here are some new programming terms that will help us describe asynchronous code.\n",
    "\n",
    "* Routine - A routine is just a Python program.  The entire set of lines above are a routine.\n",
    "\n",
    "* Subroutine - A subroutine is a *function* in the program.  So both `call_foursquare_api` and `call_spotify_api` are subroutines.\n",
    "\n",
    "Subroutines always run sequentially.  One after the other.  So first our foursquare call completes and then our spotify call completes.  \n",
    "\n",
    "And normally, this is precisely the order of operations we want.  Do one task, and then complete another."
   ]
  },
  {
   "cell_type": "markdown",
   "id": "6af3ab81-c59a-4030-b5b2-bdf3939d6d9a",
   "metadata": {},
   "source": [
    "### Introducing Coroutines"
   ]
  },
  {
   "cell_type": "markdown",
   "id": "02158569-e8fa-44df-bb78-e31a9895939a",
   "metadata": {},
   "source": [
    "The problem occurs when there is a lot of waiting involved.  For example, in our example above, a Python thread **waits** for the first API call to complete, and then **waits again** for the second API call to complete.  What is our thread doing during that time -- well nothing.  "
   ]
  },
  {
   "cell_type": "markdown",
   "id": "2bac76f9-885e-4093-a06c-2cc4a7fac2df",
   "metadata": {},
   "source": [
    "This is where coroutines -- and asynchronous programming -- become useful.  Coroutines operate a little differently than our standard subroutines.  Whereas with a subroutine, our Python thread completes one function and then another no matter how long it waits for each to complete, with a coroutine Python can move onto other tasks while it waits.\n",
    "\n",
    "Let's see this below.\n",
    "\n",
    "> You have to move the code to a python file for it to work."
   ]
  },
  {
   "cell_type": "markdown",
   "id": "c5c30e83",
   "metadata": {},
   "source": [
    "```python\n",
    "# index.py\n",
    "import asyncio\n",
    "\n",
    "async def call_foursquare_api():\n",
    "    print(\"foursquare call started\")\n",
    "    await asyncio.sleep(2)\n",
    "    print(\"foursquare call finished\")\n",
    "    \n",
    "async def call_spotify_api():\n",
    "    print(\"spotify call started\")\n",
    "    await asyncio.sleep(1)\n",
    "    print(\"spotify call finished\")\n",
    "    \n",
    "\n",
    "async def main():\n",
    "    await asyncio.gather(call_foursquare_api(), call_spotify_api())\n",
    "\n",
    "if __name__ == \"__main__\":\n",
    "    asyncio.run(main())\n",
    "```"
   ]
  },
  {
   "cell_type": "markdown",
   "id": "f93c0dd4",
   "metadata": {},
   "source": [
    "Running the file above, we'll see something like the following."
   ]
  },
  {
   "cell_type": "markdown",
   "id": "1beb2d5b-631c-4452-9b84-6bb1204240cd",
   "metadata": {},
   "source": [
    "```\n",
    "foursquare call started\n",
    "spotify call started\n",
    "spotify call finished\n",
    "foursquare call finished\n",
    "```"
   ]
  },
  {
   "cell_type": "markdown",
   "id": "1849c7bb-3080-4a2d-9bba-db81fa622fb0",
   "metadata": {},
   "source": [
    "Notice that this time, our Python thread does not wait around 2 seconds for our foursquare API call to be completed.  Instead, while it's waiting, it moves onto the next coroutine, which is to call the spotify api.  And the real benefit of something like this can be seen when making a sequence of api calls.  For example, let's issue calls to four different apis, and calculate how long it takes.\n",
    "\n",
    "```python\n",
    "import asyncio\n",
    "import time\n",
    "\n",
    "async def call_foursquare_api():\n",
    "    print(\"foursquare call started\")\n",
    "    await asyncio.sleep(2)\n",
    "    print(\"foursquare call finished\")\n",
    "\n",
    "start_time = time.time()\n",
    "async def main():\n",
    "    await asyncio.gather(call_foursquare_api(), call_foursquare_api(), call_foursquare_api(), call_foursquare_api())\n",
    "    \n",
    "    end_time = time.time()\n",
    "    delta = end_time - start_time\n",
    "    print(delta)\n",
    "\n",
    "if __name__ == \"__main__\":\n",
    "    asyncio.run(main())\n",
    "    end_time = time.time()\n",
    "    delta = end_time - start_time\n",
    "    print(delta)\n",
    "```"
   ]
  },
  {
   "cell_type": "markdown",
   "id": "88f0f3b3",
   "metadata": {},
   "source": [
    "So how long did it take?  Well this is what I got."
   ]
  },
  {
   "cell_type": "markdown",
   "id": "46efc6c4",
   "metadata": {},
   "source": [
    "```\n",
    "foursquare call started\n",
    "foursquare call started\n",
    "foursquare call started\n",
    "foursquare call started\n",
    "foursquare call finished\n",
    "foursquare call finished\n",
    "foursquare call finished\n",
    "foursquare call finished\n",
    "2.002021074295044\n",
    "```\n",
    "So the whole thing took 2.002021074295044 seconds."
   ]
  },
  {
   "cell_type": "markdown",
   "id": "e6184614",
   "metadata": {},
   "source": [
    "In other words, making four slow calls to the API took the same amount of time as making one slow call to the API.  Why is that?  It's because instead of waiting for one api call to complete, our Python thread immediately moved onto the next coroutine of making another call to the API.  It began each function call in about .002 seconds, and then each function call completed two seconds later.  So by moving to asynchronous programming we saved ourselves, and our users, well six seconds.  In other words, synchronous programming would have taken us four times as long. "
   ]
  },
  {
   "cell_type": "markdown",
   "id": "1337e5ab",
   "metadata": {},
   "source": [
    "Ok, so that's the benefit of asynchronous programming.  It releases our Python thread from waiting for one task to complete before moving onto the next task.  And so our Python thread can kick off a coroutines immediately, and also keep working."
   ]
  },
  {
   "cell_type": "markdown",
   "id": "310580b1",
   "metadata": {},
   "source": [
    "### Summary"
   ]
  },
  {
   "cell_type": "markdown",
   "id": "77acfdbc",
   "metadata": {},
   "source": [
    "In this lesson we saw the benefits of using asynchronous programming.  Asynchronous programming is useful when we are engaged in tasks that involve *waiting*, such as calling an API.  When that's the case, we can move from subroutines, where our functions are executed sequentially, to coroutines where our Python thread can move onto other tasks while the thread is waiting.  \n",
    "\n",
    "As we saw, making this change can allow us to use our thread efficiently and significantly reduce the time it takes to run our program."
   ]
  },
  {
   "cell_type": "markdown",
   "id": "84de08e1-54df-45f0-b553-47b99404f3f5",
   "metadata": {},
   "source": [
    "In the next lesson, we'll dive deeper into how to implement asynchronous programming."
   ]
  }
 ],
 "metadata": {
  "kernelspec": {
   "display_name": "Python 3 (ipykernel)",
   "language": "python",
   "name": "python3"
  },
  "language_info": {
   "codemirror_mode": {
    "name": "ipython",
    "version": 3
   },
   "file_extension": ".py",
   "mimetype": "text/x-python",
   "name": "python",
   "nbconvert_exporter": "python",
   "pygments_lexer": "ipython3",
   "version": "3.9.12"
  }
 },
 "nbformat": 4,
 "nbformat_minor": 5
}
