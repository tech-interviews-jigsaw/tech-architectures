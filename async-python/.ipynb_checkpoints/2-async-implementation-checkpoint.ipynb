{
 "cells": [
  {
   "cell_type": "markdown",
   "metadata": {},
   "source": [
    "# Async Implementation"
   ]
  },
  {
   "cell_type": "markdown",
   "metadata": {},
   "source": [
    "### Introduction\n",
    "\n",
    "In the last section, we saw the benefits of working with asynchronous programming.  Essentially, we can release our Python thread from waiting and have it move onto other tasks.  We did so by changing our routines to coroutines.  \n",
    "\n",
    "In this section, we'll move through the steps of implementing code with asynchronous programming.  Let's get started."
   ]
  },
  {
   "cell_type": "markdown",
   "metadata": {},
   "source": [
    "### Back to our problem"
   ]
  },
  {
   "cell_type": "markdown",
   "metadata": {},
   "source": [
    "Remember that traditionally our code moves sequentially, one subroutine at a time.  So for example, given the code below, first the entire `call_foursquare_api` function is completed, and then the `call_spotify_api` call is completed."
   ]
  },
  {
   "cell_type": "code",
   "execution_count": 1,
   "metadata": {},
   "outputs": [],
   "source": [
    "import time\n",
    "def call_foursquare_api():\n",
    "    print(\"foursquare call started\")\n",
    "    time.sleep(2)\n",
    "    print(\"foursquare call finished\")\n",
    "    \n",
    "def call_spotify_api():\n",
    "    print(\"spotify call started\")\n",
    "    time.sleep(1)\n",
    "    print(\"spotify call finished\")"
   ]
  },
  {
   "cell_type": "code",
   "execution_count": null,
   "metadata": {},
   "outputs": [],
   "source": [
    "call_foursquare_api()\n",
    "call_spotify_api()"
   ]
  },
  {
   "cell_type": "markdown",
   "metadata": {},
   "source": [
    "As we explained in the last lesson, we'll want to move to an asynchronous style, so that we can get begin executing the `call_spotify_api` function without waiting for the `call_foursquare_api` call to complete.  This non-waiting style is asynchronous programming.  \n",
    "\n",
    "But before getting into the syntax of this style, let's compare *synchronous* programming to asynchronous programming.  \n",
    "\n",
    "### Looking under the hood\n",
    "\n",
    "* Synchronous programming\n",
    "\n",
    "As we know, with *synchronous* programming, our program flows sequentially.  This is represented by the straight line in the diagram below -- and this is normally how our python programs work.\n",
    "\n",
    "However, with *asynchronous* programming our programs don't necessarily run one after another.  Instead, the python thread  begins working on one coroutine (like calling the spotify api) and while waiting for a response, it goes in a circle checking in other coroutines to see if there is any other work to perform.  This is called an event loop. "
   ]
  },
  {
   "cell_type": "markdown",
   "metadata": {},
   "source": [
    "<img src=\"./event-loop.png\" width=\"30%\">"
   ]
  },
  {
   "cell_type": "markdown",
   "metadata": {},
   "source": [
    "> In the diagram above, once our thread moves to asynchronous programming, we can think of it moving it in a circle seeing which coroutines it can perform work on."
   ]
  },
  {
   "cell_type": "markdown",
   "metadata": {},
   "source": [
    "You can think of the event loop like a restaurant server that checks in on each of her tables, only taking a table's order when the table is ready."
   ]
  },
  {
   "cell_type": "markdown",
   "metadata": {},
   "source": [
    "### Implementing Async Programming"
   ]
  },
  {
   "cell_type": "markdown",
   "metadata": {},
   "source": [
    "Ok, now let's begin to see the implementation of an event loop, starting at the very bottom with the `asyncio.run(main())` function."
   ]
  },
  {
   "cell_type": "code",
   "execution_count": null,
   "metadata": {},
   "outputs": [],
   "source": [
    "import asyncio\n",
    "import time\n",
    "\n",
    "async def call_foursquare_api():\n",
    "    print(\"foursquare call started\")\n",
    "    await asyncio.sleep(2)\n",
    "    print(\"foursquare call finished\")\n",
    "    \n",
    "async def call_spotify_api():\n",
    "    print(\"spotify call started\")\n",
    "    await asyncio.sleep(1)\n",
    "    print(\"spotify call finished\")\n",
    "    \n",
    "\n",
    "async def main(): # 2. check in on and call functions in event loop\n",
    "    await asyncio.gather(call_foursquare_api(), call_spotify_api())\n",
    "\n",
    "if __name__ == \"__main__\":\n",
    "    asyncio.run(main()) # 1. begin the event loop"
   ]
  },
  {
   "cell_type": "markdown",
   "metadata": {},
   "source": [
    "Ok, so the `asyncio.run()` function at the very bottom is what begins the event loop.  This is what changes our python thread from running procedures one after the other, to an event loop where our thread operates like a restaurant server that checks in on various tables.\n",
    "\n",
    "How does our event loop know which functions it needs to check in on?  Well we can see in the main function that we call two different functions with `asyncio.gather(call_foursquare_api(), call_spotify_api())`.  We can pass either asynchronous or synchronous functions to `gather`, which tells the event loop to check in on these functions in that order."
   ]
  },
  {
   "cell_type": "markdown",
   "metadata": {},
   "source": [
    "<img src=\"./updated-loop.png\" width=\"35%\">"
   ]
  },
  {
   "cell_type": "markdown",
   "metadata": {},
   "source": [
    "Ok, so let's look at the code again, this time focusing on a single asynchronous function like `call_foursquare_api`."
   ]
  },
  {
   "cell_type": "code",
   "execution_count": null,
   "metadata": {},
   "outputs": [],
   "source": [
    "import asyncio\n",
    "\n",
    "async def call_foursquare_api():\n",
    "    print(\"foursquare call started\")\n",
    "    await asyncio.sleep(2)\n",
    "    print(\"foursquare call finished\")\n",
    "    \n",
    "async def main():\n",
    "    await asyncio.gather(call_foursquare_api())\n",
    "\n",
    "if __name__ == \"__main__\":\n",
    "    asyncio.run(main()) # 1. begin the event loop"
   ]
  },
  {
   "cell_type": "markdown",
   "metadata": {},
   "source": [
    "There are two new keywords here.  The first is the word `async`.   This tells the event loop that the function does not need to be completed beginning to end -- but rather declares the function as a coroutine.  The second is the word await.  We need the await because *we do need* to the procedure of sleeping to be complete before printing the lines `foursquare_call_finished`.  And while it's waiting, the `await` allows the event loop to check in on other functions.  \n",
    "\n",
    "> If it helps, think of the restaurant server analogy again.  A server will go to the first table, see if it's ready to order. If the table is not ready, our server moves onto others.  But the server does not serve that table dinner until it places an order.  This is the await function -- it says do not move on *inside* the function until the task in await completes, but feel free to move onto other functions. \n",
    "\n",
    "Or in programming speak, the thread runs each function, and then once the `await` line is reached, the thread is yielded back to the event loop to see what other work can be accomplished.  The event loop does not complete one of the coroutines until the task in the `await` line is complete."
   ]
  },
  {
   "cell_type": "markdown",
   "metadata": {},
   "source": [
    "### The gather function"
   ]
  },
  {
   "cell_type": "markdown",
   "metadata": {},
   "source": [
    "The last item to talk about is the `asyncio.gather` function.  This function makes sure that all of the functions that are passed into gather are completed before the rest of the code is run.\n",
    "\n",
    "So, in the example below, `done everything` won't be printed until both the `call_foursquare_api` and `call_spotify_api` functions are completed."
   ]
  },
  {
   "cell_type": "code",
   "execution_count": null,
   "metadata": {},
   "outputs": [],
   "source": [
    "import asyncio\n",
    "\n",
    "async def call_foursquare_api():\n",
    "    print(\"foursquare call started\")\n",
    "    await asyncio.sleep(2)\n",
    "    print(\"foursquare call finished\")\n",
    "    \n",
    "async def call_spotify_api(): # 3. \n",
    "    print(\"spotify call started\")\n",
    "    await asyncio.sleep(1) #4. \n",
    "    print(\"spotify call finished\") # 5. \n",
    "    \n",
    "\n",
    "async def main():\n",
    "    await asyncio.gather(call_foursquare_api(), call_spotify_api()) # 2. \n",
    "    print('done everything')\n",
    "\n",
    "asyncio.run(main()) # 1. "
   ]
  },
  {
   "cell_type": "markdown",
   "metadata": {},
   "source": [
    "> Notice that the `main` function is also defined as a coroutine.  The asyncio library requires that the `asyncio.run` function is passed a coroutine, and each coroutine must have an await function that yields the python thread back to the event loop. "
   ]
  },
  {
   "cell_type": "markdown",
   "metadata": {},
   "source": [
    "### Summary"
   ]
  },
  {
   "cell_type": "markdown",
   "metadata": {},
   "source": [
    "Ok, now let's show you our annotations of the code above.  Really try to verify that this makes sense to you.  "
   ]
  },
  {
   "cell_type": "code",
   "execution_count": null,
   "metadata": {},
   "outputs": [],
   "source": [
    "import asyncio\n",
    "import time\n",
    "\n",
    "async def call_foursquare_api():\n",
    "    print(\"foursquare call started\")\n",
    "    await asyncio.sleep(2)\n",
    "    print(\"foursquare call finished\")\n",
    "    \n",
    "async def call_spotify_api(): # 3. Co routine that can be paused, and resumed by event loop\n",
    "    print(\"spotify call started\")\n",
    "    await asyncio.sleep(1) #4. While sleeping event loop looks for other tasks to continue with\n",
    "    print(\"spotify call finished\") # 5. Resumed when ready\n",
    "    \n",
    "\n",
    "async def main():\n",
    "    await asyncio.gather(call_foursquare_api(), call_spotify_api()) # 2. Call each function in order, \n",
    "    # and only continue when all calls are complete.  Begin with foursquare call. \n",
    "    print('done everything')\n",
    "\n",
    "asyncio.run(main()) # 1. Begin event loop, and return to async programming when complete. "
   ]
  },
  {
   "cell_type": "markdown",
   "metadata": {},
   "source": [
    "### Resources\n",
    "\n",
    "[Event loop documentation](https://docs.python.org/3/library/asyncio-eventloop.html)\n",
    "\n",
    "[Event loop scheduler blog](https://python.plainenglish.io/how-to-avoid-issues-when-waiting-on-multiple-events-in-python-asyncio-48e22d148de7)\n",
    "\n",
    "* Event loop\n",
    "* Scheduler\n",
    "* Caller"
   ]
  }
 ],
 "metadata": {
  "kernelspec": {
   "display_name": "Python 3 (ipykernel)",
   "language": "python",
   "name": "python3"
  },
  "language_info": {
   "codemirror_mode": {
    "name": "ipython",
    "version": 3
   },
   "file_extension": ".py",
   "mimetype": "text/x-python",
   "name": "python",
   "nbconvert_exporter": "python",
   "pygments_lexer": "ipython3",
   "version": "3.9.12"
  }
 },
 "nbformat": 4,
 "nbformat_minor": 4
}
