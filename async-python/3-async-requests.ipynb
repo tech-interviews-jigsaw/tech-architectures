{
 "cells": [
  {
   "cell_type": "markdown",
   "id": "04428083-713a-451d-8147-afa263320781",
   "metadata": {},
   "source": [
    "# Making Asynchronous requests"
   ]
  },
  {
   "cell_type": "markdown",
   "id": "1f12af07",
   "metadata": {},
   "source": [
    "### Introduction"
   ]
  },
  {
   "cell_type": "markdown",
   "id": "7cb36cbb-27ee-4296-b178-0161060abe6f",
   "metadata": {},
   "source": [
    "Now so far we have seen how to create multiple asynchronous tasks with Python.  However in our examples of this we have only used the sleep function.  A common application of using asynchronous programming is in fetching data from an API.  "
   ]
  },
  {
   "cell_type": "markdown",
   "id": "cbe96627",
   "metadata": {},
   "source": [
    "### An example"
   ]
  },
  {
   "cell_type": "markdown",
   "id": "736de65c",
   "metadata": {},
   "source": [
    "For example, let's say we want to make a separate request about each song by Billy Eilish.  If we do this synchronously, we'll have to wait for a single request to be finished before making the next request.  So if it takes two seconds to make each request, then with our standard synchronous style, fetching five different songs will take about ten seconds.  \n",
    "\n",
    "However, with an asynchronous style we can fire off five requests in a row. Then, because we were able to issue these requests immediately, we'll get each of the responses about two seconds later.  \n",
    "\n",
    "Ok, now let's see how we can issue an asynchronous request.  We'll do so using the aiohttp library."
   ]
  },
  {
   "cell_type": "markdown",
   "id": "9897fd1e-c36c-4221-a60b-b7e6adb7feea",
   "metadata": {},
   "source": [
    "### Implementing Async Requests"
   ]
  },
  {
   "cell_type": "markdown",
   "id": "5da4d528-5c1b-43ce-9645-90d9f87e0f9c",
   "metadata": {},
   "source": [
    "> If you look at the `async_requests.py` file, you'll find code that looks like the following.\n",
    "\n",
    "> Do not try to execute this code in a Jupyter notebook, it won't work."
   ]
  },
  {
   "cell_type": "markdown",
   "id": "bf33f982-0b3f-4266-a57d-35fb25de21e8",
   "metadata": {},
   "source": [
    "```python\n",
    "import aiohttp\n",
    "import asyncio\n",
    "import json\n",
    "\n",
    "async def fetch(url, params = {}):\n",
    "    async with aiohttp.ClientSession() as session:\n",
    "        async with session.get(url, params = params) as response:\n",
    "            return await response.text()\n",
    "\n",
    "async def get_artist(artist_name):\n",
    "    url = \"https://itunes.apple.com/search\"\n",
    "    \n",
    "    params = {\n",
    "        \"term\": artist_name,\n",
    "        \"entity\": \"album\",\n",
    "        \"limit\": 5,\n",
    "        \"sort\": \"recent\",\n",
    "    }\n",
    "    response_text = await fetch(url, params = params)\n",
    "    response_json = json.loads(response_text)\n",
    "    matching_result = [result for result in response_json['results'] if result['artistName'] == artist_name]\n",
    "    print(matching_result)\n",
    "\n",
    "def get_artists(artist_names):\n",
    "    return [get_artist(artist_name) for artist_name in artist_names]\n",
    "\n",
    "async def main(artist_names):\n",
    "    coros = get_artists(artist_names)\n",
    "    await asyncio.gather(*coros)\n",
    "\n",
    "\n",
    "artist_names = ['Billy Eilish', 'Dua Lipa', 'Lorde']\n",
    "asyncio.run(main(artist_names))\n",
    "```"
   ]
  },
  {
   "cell_type": "markdown",
   "id": "e2ba4c6e-02c0-4301-bcb7-622895965072",
   "metadata": {},
   "source": [
    "Let's walk through this code in turn."
   ]
  },
  {
   "cell_type": "markdown",
   "id": "e59f45c3-d11e-4273-bc9c-2079bcb843ef",
   "metadata": {},
   "source": [
    "### Code walk through"
   ]
  },
  {
   "cell_type": "markdown",
   "id": "2c572277-4708-4dc2-866c-c0db01bc836a",
   "metadata": {},
   "source": [
    "* The fetch function"
   ]
  },
  {
   "cell_type": "markdown",
   "id": "6b16513a-1a5f-4340-b831-34279b853dcb",
   "metadata": {},
   "source": [
    "```python\n",
    "import aiohttp\n",
    "import asyncio\n",
    "import json\n",
    "\n",
    "async def fetch(url, params = {}):\n",
    "    async with aiohttp.ClientSession() as session:\n",
    "        async with session.get(url, params = params) as response:\n",
    "            return await response.text()\n",
    "```"
   ]
  },
  {
   "cell_type": "markdown",
   "id": "00fff64c-7a55-4176-a09b-f654e19eafac",
   "metadata": {},
   "source": [
    "With the fetch function, we are using our new `aiohttp` library to generate a clientsession object.  And then this object has a get method that makes our request.  We call `async with session.get` so that we can fire off multiple get requests at once, and have each be registered by the event loop.  Each of our coroutines needs in a call to await, and ours is at the end of the function."
   ]
  },
  {
   "cell_type": "markdown",
   "id": "848220c9-10f7-4d05-9a11-287198a291fb",
   "metadata": {},
   "source": [
    "> The above is pretty boiler plate code, and you can copy and paste it to generate a fetch function.  But for a more detailed explanation, see the notes below."
   ]
  },
  {
   "cell_type": "markdown",
   "id": "6d0e0594-9d5a-42a7-bebb-a08fe61eb85a",
   "metadata": {},
   "source": [
    "* Get artist"
   ]
  },
  {
   "cell_type": "markdown",
   "id": "5c566b25-bc3a-47f0-adc7-d15987f99744",
   "metadata": {},
   "source": [
    "```python\n",
    "async def get_artist(artist_name):\n",
    "    url = \"https://itunes.apple.com/search\"\n",
    "    \n",
    "    params = {\n",
    "        \"term\": artist_name,\n",
    "        \"entity\": \"album\",\n",
    "        \"limit\": 5,\n",
    "        \"sort\": \"recent\",\n",
    "    }\n",
    "    response_text = await fetch(url, params = params)\n",
    "    response_json = json.loads(response_text)\n",
    "```"
   ]
  },
  {
   "cell_type": "markdown",
   "id": "b0b27f41-ecea-4b1a-9638-41b7d247f93b",
   "metadata": {},
   "source": [
    "In this function we define a coroutine that makes a request to an individual artist.  We use  `await fetch` as we want each coroutine to wait until receiving the response text.  The fetch function returns text, so we then have to turn it into json.\n",
    "\n",
    "The rest of the `get_artist` function looks like the following."
   ]
  },
  {
   "cell_type": "markdown",
   "id": "11a06c16-109e-4ba5-aa84-d4eba481f066",
   "metadata": {},
   "source": [
    "```python\n",
    "matching_result = [result for result in response_json['results'] if result['artistName'] == artist_name]\n",
    "print(matching_result)\n",
    "```"
   ]
  },
  {
   "cell_type": "markdown",
   "id": "0f04fb47-7829-4ac1-a2a2-00fd218f8a32",
   "metadata": {},
   "source": [
    "Here, because the api returns a list of dictionaries of our potential artist, and some incorrect matches, filter through the dictionaries looking for the one that matches our artistname."
   ]
  },
  {
   "cell_type": "markdown",
   "id": "35eb4084-787d-4942-9981-7ea9943f52d2",
   "metadata": {},
   "source": [
    "* Finishing up"
   ]
  },
  {
   "cell_type": "markdown",
   "id": "985afba4-1daf-4f65-b3c3-77f907b68039",
   "metadata": {},
   "source": [
    "```python\n",
    "def get_artists(artist_names):\n",
    "    return [get_artist(artist_name) for artist_name in artist_names]\n",
    "\n",
    "async def main(artist_names):\n",
    "    coros = get_artists(artist_names)\n",
    "    await asyncio.gather(*coros)\n",
    "\n",
    "\n",
    "artist_names = ['Billy Eilish', 'Dua Lipa', 'Lorde']\n",
    "asyncio.run(main(artist_names))\n",
    "```"
   ]
  },
  {
   "cell_type": "markdown",
   "id": "3b767305-6be4-4f06-8ba8-e584593d1146",
   "metadata": {},
   "source": [
    "Starting from the bottom, the `run` function must take a coroutine, so ours is the `main` function.  Then the `asyncio.gather` function takes a list of coroutines that it can execute one after the other, before waiting for any individual coroutine to complete.  \n",
    "\n",
    "Notice that the `get_artists` function is not defined with async.  This is because we want it to immediately generate a list of coroutines (by calling get_artist multiple times), and them these are the coroutines passed to the `asyncio.gather` function."
   ]
  },
  {
   "cell_type": "markdown",
   "id": "2464e41b-c228-4467-a8a7-d712c28cd173",
   "metadata": {},
   "source": [
    "### Seeing it in action"
   ]
  },
  {
   "cell_type": "markdown",
   "id": "2599256f-5b62-44a9-be70-c0ad31c08ec0",
   "metadata": {},
   "source": [
    "Ok, so now let's see the benefits of implementing our code this way.  If you call the `normal_requests.py` file, you'll see that these five requests can take a few seconds (between 2 and 5 seconds).  \n",
    "\n",
    "`python3 normal_requests.py`\n",
    "\n",
    "But calling `async_requests.py` should take less than a second.\n",
    "\n",
    "`python3 normal_requests.py`\n",
    "\n",
    "So we can see that even with just a few requests, we are able to save a significant amount of time."
   ]
  },
  {
   "cell_type": "markdown",
   "id": "b36834c6-364a-4fa3-8bc0-a4b60ccbc2e4",
   "metadata": {},
   "source": [
    "### Summary"
   ]
  },
  {
   "cell_type": "markdown",
   "id": "cd16ac6e-6287-455e-a039-9bca8ef58d32",
   "metadata": {},
   "source": [
    "In this lesson, we saw how to make asynchronous requests with Python.  We did so using the `aiohttp` library, defining the `fetch` function that makes asynchronous requests with some boilerplate code.\n",
    "\n",
    "Then, we defined a coroutine in `get_artist` that used the fetch function to call our api.\n",
    "\n",
    "```python\n",
    "async def get_artist(artist_name):\n",
    "    url = \"https://itunes.apple.com/search\" \n",
    "    params = {\n",
    "        \"term\": artist_name,\n",
    "        \"entity\": \"album\",\n",
    "    }\n",
    "    response_text = await fetch(url, params = params)\n",
    "    response_json = json.loads(response_text)\n",
    "```\n",
    "\n",
    "Finally, we generated a list of these coroutines, one for each artist name, and passed these coroutines into the `gather` function so that they can be executed immediately.\n",
    "\n",
    "```python\n",
    "def get_artists(artist_names):\n",
    "    return [get_artist(artist_name) for artist_name in artist_names]\n",
    "\n",
    "async def main(artist_names):\n",
    "    coros = get_artists(artist_names)\n",
    "    await asyncio.gather(*coros)\n",
    "```"
   ]
  },
  {
   "cell_type": "markdown",
   "id": "9aa1bdf1-55e5-4efe-8270-b300f7f0f820",
   "metadata": {},
   "source": [
    "### Notes\n",
    "```python\n",
    "async with aiohttp.ClientSession() as session:\n",
    "        async with session.get(url, params = params) as response:\n",
    "            return await response.text()\n",
    "```\n",
    "\n",
    "This code snippet is a simple example of using the aiohttp library in Python to make an asynchronous GET request to a given URL and return the response text. The aiohttp library allows you to make asynchronous HTTP requests using Python's asyncio library. Here's a step-by-step explanation of the code:\n",
    "```python\n",
    "async with aiohttp.ClientSession() as session:\n",
    "```\n",
    "This line creates an asynchronous context manager using the aiohttp.ClientSession() class. This class manages an HTTP session and can be used to make requests. By using the async with statement, the session will be automatically closed when the context is exited.\n",
    "```python\n",
    "async with session.get(url, params=params) as response:\n",
    "```\n",
    "\n",
    "Inside the aiohttp.ClientSession() context, this line makes an asynchronous GET request to the given URL with the specified query parameters (provided as a dictionary in params). The response is then stored in the response variable. Like the session, the response is also managed by an asynchronous context manager, ensuring that resources are properly released when the context is exited.\n",
    "```python\n",
    "return await response.text()\n",
    "```\n",
    "This line retrieves the response text asynchronously by calling the response.text() method, which is a coroutine. The await keyword is used to obtain the result of this coroutine, and the resulting text is returned.\n",
    "\n",
    "This code would typically be used inside an async def function, allowing the function to be executed concurrently with other asynchronous tasks."
   ]
  },
  {
   "cell_type": "markdown",
   "id": "e793551a-7be2-403e-9ae2-9f6002afa2d1",
   "metadata": {
    "tags": []
   },
   "source": [
    "### Resources\n",
    "\n",
    "[Youtube video - async scraping, semaphore ](https://www.youtube.com/watch?v=6ow7xloFy5s&ab_channel=CodingEntrepreneurs)"
   ]
  },
  {
   "cell_type": "code",
   "execution_count": null,
   "id": "05945716-9f75-4ba3-9b77-3b51e27931e9",
   "metadata": {},
   "outputs": [],
   "source": []
  }
 ],
 "metadata": {
  "kernelspec": {
   "display_name": "Python 3 (ipykernel)",
   "language": "python",
   "name": "python3"
  },
  "language_info": {
   "codemirror_mode": {
    "name": "ipython",
    "version": 3
   },
   "file_extension": ".py",
   "mimetype": "text/x-python",
   "name": "python",
   "nbconvert_exporter": "python",
   "pygments_lexer": "ipython3",
   "version": "3.9.12"
  }
 },
 "nbformat": 4,
 "nbformat_minor": 5
}
