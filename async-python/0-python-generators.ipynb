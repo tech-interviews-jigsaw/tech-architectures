{
 "cells": [
  {
   "cell_type": "markdown",
   "id": "d0bb8275-3d5a-4a14-8381-e813e14edd96",
   "metadata": {},
   "source": [
    "# Threads and Processes"
   ]
  },
  {
   "cell_type": "markdown",
   "id": "39eca981-0c0d-43ff-8d38-b423fc2ab8e5",
   "metadata": {},
   "source": [
    "Python generators are a special kind of iterator, which allow you to iterate over a potentially infinite sequence of items without having to store the entire sequence in memory. They are a powerful and memory-efficient way to handle large data sets or compute-intensive tasks. Generators are created using a function with the yield keyword, rather than the return keyword.\n",
    "\n",
    "The main advantages of using Python generators are:\n",
    "\n",
    "Lazy evaluation: Generators produce values one at a time, as needed, which can lead to significant memory savings for large data sets. This is particularly useful when working with streams of data or when the full sequence is not needed at once.\n",
    "\n",
    "Simplified code: Generators allow you to write more readable and maintainable code by encapsulating the logic of iteration within the generator function. This can make your code easier to understand and modify.\n",
    "\n",
    "Infinite sequences: Generators can represent infinite sequences, which is not possible with lists or other data structures. This is useful for tasks such as generating an infinite series of numbers or iterating over a stream of data that has no known end.\n",
    "\n",
    "To illustrate how generators work, let's look at a simple example:\n",
    "\n",
    "```python\n",
    "def count_up_to(max):\n",
    "    count = 1\n",
    "    while count <= max:\n",
    "        yield count\n",
    "        count += 1\n",
    "\n",
    "counter = count_up_to(5)\n",
    "for num in counter:\n",
    "    print(num)\n",
    "```\n",
    "In this example, the count_up_to function is a generator that yields numbers from 1 up to a given maximum value. When you iterate over the counter generator, it produces values one at a time, as needed. The output of this code would be:\n",
    "```\n",
    "1\n",
    "2\n",
    "3\n",
    "4\n",
    "5\n",
    "```\n",
    "\n",
    "You might use generators in situations where you want to:\n",
    "\n",
    "Process large data sets that do not fit in memory\n",
    "Work with real-time data streams, such as sensor data or user interactions\n",
    "Generate an infinite series, like Fibonacci numbers or prime numbers\n",
    "Simplify complex iteration logic and make your code more rea"
   ]
  },
  {
   "cell_type": "markdown",
   "id": "10858420-e4ed-4203-9552-3f5e01bd7d75",
   "metadata": {
    "tags": []
   },
   "source": [
    "### Resources\n",
    "\n",
    "\n",
    "* [Thread vs Process](https://www.tutorialspoint.com/difference-between-process-and-thread)\n",
    "* [python generators](https://www.youtube.com/watch?v=ixiRkUwPI2A&ab_channel=PyCon2019)\n",
    "* [Python generator start DE](https://www.startdataengineering.com/post/writing-memory-efficient-dps-in-python/)"
   ]
  }
 ],
 "metadata": {
  "kernelspec": {
   "display_name": "Python 3 (ipykernel)",
   "language": "python",
   "name": "python3"
  },
  "language_info": {
   "codemirror_mode": {
    "name": "ipython",
    "version": 3
   },
   "file_extension": ".py",
   "mimetype": "text/x-python",
   "name": "python",
   "nbconvert_exporter": "python",
   "pygments_lexer": "ipython3",
   "version": "3.9.12"
  }
 },
 "nbformat": 4,
 "nbformat_minor": 5
}
