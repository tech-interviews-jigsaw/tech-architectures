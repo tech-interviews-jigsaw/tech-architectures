{
 "cells": [
  {
   "cell_type": "markdown",
   "id": "30a3943b-08ea-4376-9b23-236491537a02",
   "metadata": {},
   "source": [
    "# Reviewing Architectures"
   ]
  },
  {
   "cell_type": "markdown",
   "id": "230b1594-c361-43f0-b8ad-14a65b4b9b53",
   "metadata": {},
   "source": [
    "### Introduction"
   ]
  },
  {
   "cell_type": "markdown",
   "id": "9b0da360-e26f-4ea1-b482-c7c487095b6f",
   "metadata": {},
   "source": [
    "We are moving through a couple of different patterns, for accessing data for analytical purposes.  It's worth reviewing them."
   ]
  },
  {
   "cell_type": "markdown",
   "id": "c300836a-5457-4b9f-863d-7489dc282074",
   "metadata": {},
   "source": [
    "### Data Lakes vs Data Warehouses"
   ]
  },
  {
   "cell_type": "markdown",
   "id": "7f054c71-259e-4050-a086-3e1eb8f50dfa",
   "metadata": {},
   "source": [
    "When originally storing our data in S3, we learned about storing our data in a data lake.\n",
    "\n",
    "### Data Lake\n",
    "\n",
    "* A data lake is a repository or system of data, generally consisting of blobs or files.  It can include structured data (from an OLTP), semi-structured data like JSON data, or unstructured data (HTML or emails), and binary data like images.  \n",
    "\n",
    "* Consumers of a data lake generally have technical skills, and so are engineers or data scientists.\n",
    "\n",
    "* One of the benefits of a data lake, and using storage like S3 or google cloud storage is that a lot of data can be stored cheaply.   However, this can also lead to disorganized data that is rarely used -- leading to the term data swamp.\n",
    "\n",
    "* For querying data in S3 files, we used Athena, however Pyspark (hosted on EMR (elastic map reduce) can also be used for larger datasets).  "
   ]
  },
  {
   "cell_type": "markdown",
   "id": "a55301ec-145c-41bd-b33a-541269ff79fd",
   "metadata": {
    "tags": []
   },
   "source": [
    "### Data Warehouse\n",
    "\n",
    "* With a data warehouse, data is typically stored in a relational database designed for analytics purposes like redshift or snowflake.  Here, the data is structured, just like it would be in postgres.\n",
    "\n",
    "* Consumers of data in a data warehouse can be less technical - like business analysts or marketing - as the data is more accessible through SQL or a data dashboard.\n",
    "\n",
    "* A downside of data warehousing can be cost.  Remember that with a data lake we can simply store data with blob storage (S3 files), separating storage from compute.  However with a data warehouse like redshift, organizations pay for a more costly server. \n",
    "\n",
    "* While storing relational data provides more order, it also can be costly to transform the data.\n",
    "\n",
    "#### Warehouse with Staging Layer\n",
    "\n",
    "* S3 can also be used for a staging layer, before data is stored in a data warehouse.  Why store data in a staging layer before moving it to the data warehouse?\n",
    "\n",
    "1. It could be useful for keeping historical snapshots of the data.\n",
    "2. It can be useful for keeping unstructured data (like HTML or emails) or semistructured data (like JSON) that may not be easily loaded into a tool like redshift.  \n",
    "\n",
    "So in this way, the data is stored before extracting the relevant components of the data."
   ]
  },
  {
   "cell_type": "markdown",
   "id": "f8daeff7-e42d-4a83-b135-86e07387dc49",
   "metadata": {},
   "source": [
    "### The lakehouse"
   ]
  },
  {
   "cell_type": "markdown",
   "id": "bd3096b5-abc7-4c01-b310-33913fd8ce73",
   "metadata": {},
   "source": [
    "The lakehouse is supposed to provide the best of both worlds, allowing for the storage of more cheap and less structured data (for use by data scientists), and more structured data in a data warehouse.  And the idea is that both of these data sources are catalogued by the same service - like AWS lake formation."
   ]
  },
  {
   "cell_type": "markdown",
   "id": "a527b858-41e7-482e-89f2-b9cf1f94d715",
   "metadata": {},
   "source": [
    "Below is a diagram of the AWS lakehouse.  See if you can make sense of the architecture.  Feel free to read more about it [here](https://aws.amazon.com/blogs/big-data/build-a-lake-house-architecture-on-aws/)."
   ]
  },
  {
   "cell_type": "markdown",
   "id": "3ef8cb61-db5b-414e-bb99-68c4dc77c890",
   "metadata": {},
   "source": [
    "<img src=\"./aws-lakehouse.png\">"
   ]
  },
  {
   "cell_type": "markdown",
   "id": "25643f5e-4c04-4db3-a631-1d3973576e31",
   "metadata": {},
   "source": [
    "### Downsides to Lakehouse approach"
   ]
  },
  {
   "cell_type": "markdown",
   "id": "08a2ccba-7c60-49ff-87fb-0226e5d1e189",
   "metadata": {},
   "source": [
    "Of course, there's downsides to the lakehouse approach too.  Here are some of them."
   ]
  },
  {
   "cell_type": "markdown",
   "id": "2660e98d-249c-4496-a936-d94adb5d1b9c",
   "metadata": {},
   "source": [
    "* Complexity: The lakehouse architecture can introduce complexity to your data management ecosystem. Integrating data lakes and data warehouses requires careful design and implementation, and requires additional skills by the team.\n",
    "\n",
    "* Data Quality and Governance: As data lakes allow for the ingestion of raw, unstructured data, ensuring data quality and governance can be more difficult in a lakehouse architecture. \n",
    "\n",
    "* Performance Trade-offs: While a lakehouse architecture offers flexibility in storing and querying diverse data types, it may introduce performance trade-offs. As data volumes grow, complex queries spanning both structured and unstructured data can impact query performance. \n",
    "\n",
    "* Vendor Lock-in: Depending on the specific technologies and cloud providers chosen for the lakehouse architecture, there may be a risk of vendor lock-in. If you heavily rely on proprietary tools or specific cloud services, it could limit your ability to switch providers or adapt to evolving technologies in the future."
   ]
  },
  {
   "cell_type": "markdown",
   "id": "1ac4497b-a1c1-475b-98a8-425b0b9e6447",
   "metadata": {},
   "source": [
    "### Resources"
   ]
  },
  {
   "cell_type": "markdown",
   "id": "be711e2a-d507-42ea-a3f7-b0b021d7dc38",
   "metadata": {},
   "source": [
    "[AWS Lakehouse](https://aws.amazon.com/blogs/big-data/build-a-lake-house-architecture-on-aws/)\n",
    "\n",
    "[Snowflake on Lakehouse](https://www.snowflake.com/guides/what-data-lakehouse)"
   ]
  },
  {
   "cell_type": "markdown",
   "id": "33427e0d-0b1c-449e-8c7b-f3451e9c6621",
   "metadata": {},
   "source": [
    "[What and Why staging](https://www.startdataengineering.com/post/what-and-why-staging/)"
   ]
  },
  {
   "cell_type": "markdown",
   "id": "e7fa7402-f4be-4478-b7f9-cef7854e24f9",
   "metadata": {},
   "source": [
    "[Datalake vs staging](https://qmetrix.com.au/data-lake-vs-staging-layer-difference/)"
   ]
  },
  {
   "cell_type": "markdown",
   "id": "157def77-435e-41f9-bed0-85db6ea3e76e",
   "metadata": {},
   "source": [
    "[McKinsey Datalake](https://www.mckinsey.com/capabilities/mckinsey-digital/our-insights/a-smarter-way-to-jump-into-data-lakes)"
   ]
  },
  {
   "cell_type": "code",
   "execution_count": null,
   "id": "90e8c639-bf87-43f9-bff2-30dece15f6f9",
   "metadata": {},
   "outputs": [],
   "source": []
  }
 ],
 "metadata": {
  "kernelspec": {
   "display_name": "Python 3 (ipykernel)",
   "language": "python",
   "name": "python3"
  },
  "language_info": {
   "codemirror_mode": {
    "name": "ipython",
    "version": 3
   },
   "file_extension": ".py",
   "mimetype": "text/x-python",
   "name": "python",
   "nbconvert_exporter": "python",
   "pygments_lexer": "ipython3",
   "version": "3.9.12"
  }
 },
 "nbformat": 4,
 "nbformat_minor": 5
}
