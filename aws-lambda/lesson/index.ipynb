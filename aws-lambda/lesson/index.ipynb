{
 "cells": [
  {
   "cell_type": "markdown",
   "id": "0006966b-9f73-49ab-892e-7cab2e3a8408",
   "metadata": {},
   "source": [
    "# AWS Lambda "
   ]
  },
  {
   "cell_type": "markdown",
   "id": "8b3d1c5c-c2b7-4be0-a7f0-c90d42b47e51",
   "metadata": {},
   "source": [
    "### Introduction"
   ]
  },
  {
   "cell_type": "code",
   "execution_count": null,
   "id": "558e9918-5fbb-4b15-9679-617bfcc4a4e6",
   "metadata": {},
   "outputs": [],
   "source": []
  },
  {
   "cell_type": "markdown",
   "id": "61311e42-23fa-4a31-807f-43dca34ecef2",
   "metadata": {},
   "source": [
    "### Getting Started"
   ]
  },
  {
   "cell_type": "markdown",
   "id": "bf66a3f3-e795-443e-ab1e-2d48bfa74606",
   "metadata": {},
   "source": [
    "We can begin by going to our AWS console and clicking on lamdba."
   ]
  },
  {
   "cell_type": "markdown",
   "id": "fd00d0f2-1ec8-472c-936d-e26305a3bd66",
   "metadata": {},
   "source": [
    "<img src=\"./aws-permissions.png\" width=\"100%\">"
   ]
  },
  {
   "cell_type": "markdown",
   "id": "f33cf8e4-83ca-41a3-81e3-a868c0ea42f5",
   "metadata": {},
   "source": [
    "Then click on the orange create function button."
   ]
  },
  {
   "cell_type": "markdown",
   "id": "ccb70f4a-d25a-41c4-8176-e69d602d521f",
   "metadata": {},
   "source": [
    "We can begin by updating our function to the following:"
   ]
  },
  {
   "cell_type": "markdown",
   "id": "94f3cb6f-4ca8-4a0d-9399-ab8baaff7683",
   "metadata": {},
   "source": [
    "```python\n",
    "import json\n",
    "\n",
    "def lambda_handler(event, context):\n",
    "    \n",
    "    return {\n",
    "        'statusCode': 200,\n",
    "        'body': \"hello everyone\"\n",
    "    }\n",
    "```"
   ]
  },
  {
   "cell_type": "markdown",
   "id": "5c30de03-d22c-418d-bf2d-ddcaab187291",
   "metadata": {},
   "source": [
    "Then click on the deploy button to save the updates to our function."
   ]
  },
  {
   "cell_type": "markdown",
   "id": "b65c79a8-c3f1-4235-9382-2455a9ae6bc6",
   "metadata": {},
   "source": [
    "<img src=\"./deploy.png\" width=\"70%\">"
   ]
  },
  {
   "cell_type": "markdown",
   "id": "a15c2f9a-4cbc-4065-99f4-a480b3355019",
   "metadata": {},
   "source": [
    "From there, we can test our function by clicking on the `test` button. "
   ]
  },
  {
   "cell_type": "markdown",
   "id": "f1f52758-9ade-4b76-b991-09095944fa9b",
   "metadata": {},
   "source": [
    "<img src=\"./rest-search.png\" width=\"70%\">"
   ]
  },
  {
   "cell_type": "markdown",
   "id": "d7740dc8-a012-4417-a80c-3848e05c8626",
   "metadata": {},
   "source": [
    "So from there, we can click the blue Test button, to run the event, and can see our json response is returned."
   ]
  },
  {
   "cell_type": "markdown",
   "id": "2c124887-71e8-4ba9-8d53-1784ef2c7788",
   "metadata": {},
   "source": [
    "<img src=\"./tested-event.png\" width=\"70%\">"
   ]
  },
  {
   "cell_type": "markdown",
   "id": "540014e5-7fbb-48f4-8f5e-0cacf161ccd2",
   "metadata": {},
   "source": [
    "Ok, so next let's actually use some of the data provided in our test event.  We'll update our code in the lambda function to be the following."
   ]
  },
  {
   "cell_type": "markdown",
   "id": "a06a2a30-f1d6-4387-a295-2a3d2b47981e",
   "metadata": {},
   "source": [
    "```python\n",
    "def lambda_handler(event, context):\n",
    "    print('function called')\n",
    "    return {\n",
    "        'statusCode': 200,\n",
    "        'body': \"hello everyone\",\n",
    "        'restaurant_name': event['name']\n",
    "    }\n",
    "```"
   ]
  },
  {
   "cell_type": "markdown",
   "id": "1af10b81-f23f-478c-b7f0-039fe3c98c32",
   "metadata": {},
   "source": [
    "So we can see see that a lambda function effectively works like an api.  The return value is what is returned from the api.  And if we provide data to our `lambda_handler`, we can access that data through the event dictionary."
   ]
  },
  {
   "cell_type": "markdown",
   "id": "1f87433d-7d02-41f7-bf75-7e45a414f533",
   "metadata": {},
   "source": [
    "> There is a second argument, called *context* and this gives us access to metadata about the event and the lambda function.  For example, if you look at [the documentation](https://docs.aws.amazon.com/lambda/latest/dg/python-context.html), you can see some of the information available to you in the context.  \n",
    "```python\n",
    "def lambda_handler(event, context):   \n",
    "    print(\"Lambda function ARN:\", context.invoked_function_arn)\n",
    "    print(\"Lambda Request ID:\", context.aws_request_id)\n",
    "```"
   ]
  },
  {
   "cell_type": "markdown",
   "id": "e4d81779-4d35-4d33-9602-878bcd4d7b4d",
   "metadata": {},
   "source": [
    "But we don't need to use this context object right now.  So instead, let's see how we call our lambda function beyond using just test events.  It turns out lambda functions can be invoked on various events, like the uploading of an s3 file to a bucket, or hitting an aws api.  But to call our lambda function on schedule -- like we want to do here -- we can use the EventBridge scheduler."
   ]
  },
  {
   "cell_type": "markdown",
   "id": "f7da6d5c-14c3-4762-902f-4d162df6307c",
   "metadata": {},
   "source": [
    "### Moving to the EventBridge Scheduler"
   ]
  },
  {
   "cell_type": "markdown",
   "id": "10fb78c8-dc16-4002-a397-0d2d26603783",
   "metadata": {},
   "source": [
    "Eventbridge can be used to connect AWS services with events.  Now we can find the event bridge scheduler."
   ]
  },
  {
   "cell_type": "markdown",
   "id": "0b55a0df-268a-4b01-8065-21bd75a21116",
   "metadata": {},
   "source": [
    "<img src=\"./schedule-group.png\" width=\"50%\">"
   ]
  },
  {
   "cell_type": "markdown",
   "id": "6d3da6b7-2ec5-412b-a23d-8335e8eba317",
   "metadata": {},
   "source": [
    "<img src=\"./repeated.png\" width=\"70%\">"
   ]
  },
  {
   "cell_type": "markdown",
   "id": "857ccd19-abc7-4114-a089-4615d067cd82",
   "metadata": {},
   "source": [
    "Move onto settings.  The default settings are fine so just click next."
   ]
  },
  {
   "cell_type": "markdown",
   "id": "abb991ed-44df-4a56-9a3d-03383fd52694",
   "metadata": {},
   "source": [
    "<img src=\"./settings.png\" width=\"70%\">"
   ]
  },
  {
   "cell_type": "markdown",
   "id": "f0d7353e-1f6d-43e9-8dfb-2934de8f1ee3",
   "metadata": {},
   "source": [
    "And finally click on create schedule."
   ]
  },
  {
   "cell_type": "markdown",
   "id": "c2883362-96fb-41f7-9bc1-0cf079bd811a",
   "metadata": {},
   "source": [
    "<img src=\"./create-schedule.png\" width=\"70%\">"
   ]
  },
  {
   "cell_type": "markdown",
   "id": "34df4a0d-f76c-4e98-aa2a-c34732a512f0",
   "metadata": {
    "tags": []
   },
   "source": [
    "### View our lambda calls"
   ]
  },
  {
   "cell_type": "markdown",
   "id": "083cbaeb-2e5c-499e-8d48-6dfe0f180c65",
   "metadata": {},
   "source": [
    "<img src=\"./cloud-watch.png\" width=\"70%\">"
   ]
  },
  {
   "cell_type": "markdown",
   "id": "19efe05f-4866-44cf-a51b-00f601db9a1c",
   "metadata": {},
   "source": [
    "And from there we can see the various log groups."
   ]
  },
  {
   "cell_type": "markdown",
   "id": "15042f34-baaf-4dd0-9882-aee97c53127c",
   "metadata": {},
   "source": [
    "<img src=\"./log-groups.png\" width=\"70%\">"
   ]
  },
  {
   "cell_type": "markdown",
   "id": "9145d9b2-9651-4c4f-af5f-47246b20c354",
   "metadata": {},
   "source": [
    "### Resources\n",
    "\n",
    "[Lambda foundations](https://docs.aws.amazon.com/lambda/latest/dg/lambda-foundation.html)\n",
    "\n",
    "[Stackify AWS Lambda](https://stackify.com/aws-lambda-with-python-a-complete-getting-started-guide/)\n",
    "\n",
    "[Python context](https://docs.aws.amazon.com/lambda/latest/dg/python-context.html)\n",
    "\n",
    "[Eventbridge Scheduler Docs](https://aws.amazon.com/blogs/compute/introducing-amazon-eventbridge-scheduler/)"
   ]
  }
 ],
 "metadata": {
  "kernelspec": {
   "display_name": "Python 3 (ipykernel)",
   "language": "python",
   "name": "python3"
  },
  "language_info": {
   "codemirror_mode": {
    "name": "ipython",
    "version": 3
   },
   "file_extension": ".py",
   "mimetype": "text/x-python",
   "name": "python",
   "nbconvert_exporter": "python",
   "pygments_lexer": "ipython3",
   "version": "3.9.12"
  }
 },
 "nbformat": 4,
 "nbformat_minor": 5
}
