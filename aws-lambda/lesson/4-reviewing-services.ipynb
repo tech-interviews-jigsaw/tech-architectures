{
 "cells": [
  {
   "cell_type": "markdown",
   "id": "25ff6757-0ba1-4ce4-b3ff-f0966449cf6e",
   "metadata": {},
   "source": [
    "# Reviewing AWS Services"
   ]
  },
  {
   "cell_type": "markdown",
   "id": "09e3de76-cd6c-469c-a13e-73878bd8a562",
   "metadata": {},
   "source": [
    "Ok, let's take this opportunity to review the various services we have been using.  To begin remember that we have transitioned from a server based architecture to a serverless architecture."
   ]
  },
  {
   "cell_type": "markdown",
   "id": "a43f881f-7759-40b8-8c5d-7dadb4b78144",
   "metadata": {},
   "source": [
    "<img src=\"./architecture.png\">"
   ]
  },
  {
   "cell_type": "markdown",
   "id": "97b37227-50ae-499d-9815-babdcb3ad69b",
   "metadata": {},
   "source": [
    "* Server based\n",
    "\n",
    "With our server based architecture, we have long running, always on services.  For example, our EC2 machine hosts our code, and is always running regardless of use.  Our RDS instance also a running server.  It continues running regardless of the number of queries (unless we shut it down).\n",
    "\n",
    "* Serverless\n",
    "\n",
    "With our serverless, we move to a model where we essentially pay per transaction.  For example, with a lambda function we pay per invocation of the lambda function, with Athena we pay per query."
   ]
  },
  {
   "cell_type": "markdown",
   "id": "651456bf-27f3-4ad0-92ca-eeecc2858d90",
   "metadata": {},
   "source": [
    "### Querying and Storage"
   ]
  },
  {
   "cell_type": "markdown",
   "id": "63e8db6c-3700-493b-b2cb-e5e512abc083",
   "metadata": {},
   "source": [
    "<img src=\"./athena-s3.png\" width=\"70%\">"
   ]
  },
  {
   "cell_type": "markdown",
   "id": "7f0222d5-e3cc-4939-9150-fa70a453d525",
   "metadata": {},
   "source": [
    "* Athena\n",
    "    * A serverless database, with a pay as you go pricing model.  Our data is stored in S3 buckets and we use Athena to query these buckets.  In other words, Athena separates storage from compute.\n",
    "    * With athena we specify an input bucket and query results are immediately sent to an output bucket.  Athena is good for ad hoc and data exploration queries, but is too slow to rely on as a transactional or analytical database (remember each query may take a few seconds).\n",
    "\n",
    "* S3 bucket\n",
    "    * Used for object (file) storage in a scalable and secure way. Scalable because buckets automatically scale, and secure as we can specify detailed permissions and policies for use. \n"
   ]
  },
  {
   "cell_type": "markdown",
   "id": "6c136766-e8ba-4023-b34e-6f4f47bc28fa",
   "metadata": {},
   "source": [
    "<img src=\"./glue-aws.png\" width=\"70%\">"
   ]
  },
  {
   "cell_type": "markdown",
   "id": "0f1cf39c-2016-43c4-8a63-e1d272d842b7",
   "metadata": {},
   "source": [
    "\n",
    "* Glue \n",
    "    *  Discovers and prepares data from multiple sources, whether S3 buckets or an RDS instance.  We used glue to crawl our S3 buckets.\n",
    "\n",
    "* Lakeformation\n",
    "    * Provides organization to a datalake, which is a collection of unstructured data (store in S3 buckets in an AWS stack).  Describes data sources in a centralized data catalog, with concepts of a database (really just a folder) that points to a collection of tables (our S3 buckets)."
   ]
  },
  {
   "cell_type": "markdown",
   "id": "9a78c1e3-aba6-4a76-a495-677fdffaf5db",
   "metadata": {},
   "source": [
    "### Event driven Pipeline"
   ]
  },
  {
   "cell_type": "markdown",
   "id": "85852eff-c2df-4d3a-a4b4-d1f47bd34db4",
   "metadata": {},
   "source": [
    "<img src=\"./reviewing-services.png\">"
   ]
  },
  {
   "cell_type": "markdown",
   "id": "1d8b402f-a254-4708-a86b-f01469dfb908",
   "metadata": {},
   "source": [
    "* Eventbridge\n",
    "    * Has components of an event bus, which events are sent to.  And an event rules, which routes events to different targets.  Follows an event driven architecture pattern of a producer of events, a consumer (the target), and a router (the event rule)\n",
    "    \n",
    "<img src=\"./eventrule.png\">"
   ]
  },
  {
   "cell_type": "markdown",
   "id": "4a093217-ed9c-4ee5-9cca-f412ad475d93",
   "metadata": {},
   "source": [
    "> Above an s3 object create event creates the event, and the s3 event routes it to a lambda function."
   ]
  },
  {
   "cell_type": "markdown",
   "id": "ffd02e69-6196-4755-93a1-aa1736ef41e6",
   "metadata": {},
   "source": [
    "Below, we use our eventbridge rule of an event scheduler to generate events and send them to our target, here our lambda function."
   ]
  },
  {
   "cell_type": "markdown",
   "id": "1f8bd078-ded1-40b5-bfff-6d98e231d7c6",
   "metadata": {},
   "source": [
    "<img src=\"./eventscheduled.png\" width=\"70%\">"
   ]
  },
  {
   "cell_type": "markdown",
   "id": "d7515216-130b-4c23-bdd0-a9bbbfba0f83",
   "metadata": {},
   "source": [
    "* Lambda function\n",
    "    * A serverless alternative to an EC2 machine.  Allows us to use a pay as you go model, where we pay per transaction, length of transaction and memory resources used.  Lambda automatically scales your functions based on incoming requests.  But as a downside, you get less configuration over the operating system, and is not ideal for for long running processes (because of time and resource restrictions)."
   ]
  },
  {
   "cell_type": "markdown",
   "id": "4d5be622-de16-459a-ac76-a6e93397c6d4",
   "metadata": {},
   "source": [
    "* Cloudwatch \n",
    "    * Allows us to monitor AWS resources, such as invocations of a lambda function.  Produces logs and logstreams associated with various resources."
   ]
  },
  {
   "cell_type": "markdown",
   "id": "199c73c7-3ef2-447b-8346-d962ccf66b22",
   "metadata": {},
   "source": [
    "### Security"
   ]
  },
  {
   "cell_type": "markdown",
   "id": "20a2e770-02ad-4169-a3e6-78ddc7fecaea",
   "metadata": {},
   "source": [
    "* A role is a way to grant specific permissions to entities (such as users, applications, or services) that can then assume that role and inherit its permissions. \n",
    "\n",
    "* Policy - A role has many policies.  A policy specifies the actions that are allowed or denied on AWS resources.  A policy can be attached to a role to specify what the service or user has access to.\n",
    "\n",
    "* A user - A user can also have many policies.  The difference between a user and a role is that a user is associated with a person, who has login credentials.  A role can attach to a service (like a lambda function, which has policies that give it certain permissions to use other services like Athena).\n",
    "\n",
    "* ACL (Access control lists) - attach to a specific bucket or object.  They can be used to specify how others can access the buckets and objects.  (Remember that an ACL is like a bouncer at a club, specifying who can enter).  "
   ]
  },
  {
   "cell_type": "markdown",
   "id": "ea9d517a-7128-4cb0-9f54-480c7f9a014d",
   "metadata": {},
   "source": [
    "### IAC Tools\n",
    "\n",
    "* Boto3\n",
    "    * Allows us to *interact* with our AWS resources through Python.  For example, can read or upload files to a bucket, trigger a lambda function, or query Athena.\n",
    "    \n",
    "* Docker \n",
    "    * Allows us to create an image which is a collection of files representing an environment, and start a container which is process that depends on that environment (like starting a web server).\n",
    "    \n",
    "* Dockerhub \n",
    "    * We can deploy our image to Dockerhub which stores these files.  And we can download (or pull) an image from dockerhub.\n",
    "\n",
    "* Elastic Container Registry (ECR)\n",
    "    * Allows us to store our image in an AWS repository.  This way we can keep our images private, and give AWS services permission to use the image (like a lambda function).\n",
    "    \n",
    "* Serverless \n",
    "    * An IAC tool that allows us to set up our AWS stack.  For example, can create buckets, lambda functions, eventbridge rules, and establish permissions between these services.  Underneath it generates and calls AWS cloudformation, which directly generates the stack."
   ]
  }
 ],
 "metadata": {
  "kernelspec": {
   "display_name": "Python 3 (ipykernel)",
   "language": "python",
   "name": "python3"
  },
  "language_info": {
   "codemirror_mode": {
    "name": "ipython",
    "version": 3
   },
   "file_extension": ".py",
   "mimetype": "text/x-python",
   "name": "python",
   "nbconvert_exporter": "python",
   "pygments_lexer": "ipython3",
   "version": "3.9.12"
  }
 },
 "nbformat": 4,
 "nbformat_minor": 5
}
