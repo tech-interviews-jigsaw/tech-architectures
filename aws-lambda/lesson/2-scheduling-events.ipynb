{
 "cells": [
  {
   "cell_type": "markdown",
   "id": "82e3adf4-ad8f-479e-81a7-1f02eab4f411",
   "metadata": {},
   "source": [
    "# Scheduling Events"
   ]
  },
  {
   "cell_type": "markdown",
   "id": "4f7f2e8b-2ce8-483b-b492-ea39db4be824",
   "metadata": {},
   "source": [
    "### Introduction"
   ]
  },
  {
   "cell_type": "markdown",
   "id": "93b1719a-bfbd-401d-98fd-086563866875",
   "metadata": {},
   "source": [
    "As we know, our lambda function responds to various events.  Sometimes, we may want our lambda to be triggered by events that occur regularly, like a S3 file being uploaded.  And other times we may want our lambda function to be called regularly -- like if we want it to hit an API.\n",
    "\n",
    "So let's generate some scheduled events that will repeatedly call our lambda function.  As we'll see, this can be quite useful, for say repeatedly calling an API or scraping a website.  \n",
    "\n",
    "Ok, let's get started."
   ]
  },
  {
   "cell_type": "markdown",
   "id": "a701e81c-7bdd-4da8-aaa6-b2e38736dd69",
   "metadata": {},
   "source": [
    "### Creating a sample lambda function"
   ]
  },
  {
   "cell_type": "markdown",
   "id": "b6ef1568-64db-4404-bb5e-5c8d08c44f06",
   "metadata": {},
   "source": [
    "Let's begin by creating a sample lambda function.  For this tutorial, we'll call our function `testfunction`, and author it from scratch."
   ]
  },
  {
   "cell_type": "markdown",
   "id": "fcaa692f-8a9e-41f2-aba9-5a7ae9029ea9",
   "metadata": {},
   "source": [
    "<img src=\"./test-fn.png\" width=\"100%\">"
   ]
  },
  {
   "cell_type": "markdown",
   "id": "998164f3-8837-4ea5-99e2-d000ee430743",
   "metadata": {},
   "source": [
    "And for the code executing that function, we can just use the default that we are provided -- with just printing the `event` and the text `function called`."
   ]
  },
  {
   "cell_type": "markdown",
   "id": "8ca7115d-bc60-4857-8a2b-94087abd7588",
   "metadata": {},
   "source": [
    "```python\n",
    "import json\n",
    "\n",
    "def lambda_handler(event, context):\n",
    "    print('event', event)\n",
    "    print('function called')\n",
    "    return {\n",
    "        'statusCode': 200,\n",
    "        'body': json.dumps('Hello from Lambda!')\n",
    "    }\n",
    "```"
   ]
  },
  {
   "cell_type": "markdown",
   "id": "b6ef9d2d-a48f-4026-acec-ff37f6e9a54d",
   "metadata": {},
   "source": [
    "Then click on the `Deploy` button to update our function."
   ]
  },
  {
   "cell_type": "markdown",
   "id": "a4ad6db7-7cbe-4ea4-8eb0-5f59121ad9a4",
   "metadata": {},
   "source": [
    "Ok, now if you look at the function overview panel, you'll see our `testfunction` in the middle, and a button for add trigger.  Essentially, we'll need a server to trigger our lambda function.  And for that we'll use the event scheduler."
   ]
  },
  {
   "cell_type": "markdown",
   "id": "1ceb557b-4ea2-46ad-8cbc-16b46c6c53d8",
   "metadata": {},
   "source": [
    "<img src=\"./add-trigger.png\" width=\"70%\">"
   ]
  },
  {
   "cell_type": "markdown",
   "id": "29370127-6acd-4746-b4c6-eac0a986a0b4",
   "metadata": {},
   "source": [
    "### Introducing the event scheduler"
   ]
  },
  {
   "cell_type": "markdown",
   "id": "6af9e867-4185-418b-9a48-a73f2e7a3844",
   "metadata": {},
   "source": [
    "Ok, so now it's time use the eventbridge scheduler to repeatedly call our lambda function."
   ]
  },
  {
   "cell_type": "markdown",
   "id": "84cb6a9e-0aa1-4caf-82d0-a61cde5d3ad7",
   "metadata": {},
   "source": [
    "Now the eventbridge scheduler is available through the AWS console."
   ]
  },
  {
   "cell_type": "markdown",
   "id": "80d9b10f-d39c-40f3-9b4f-500109ec75e2",
   "metadata": {},
   "source": [
    "<img src=\"./eventbridge-scheduler.png\" width=\"100%\">"
   ]
  },
  {
   "cell_type": "markdown",
   "id": "284e7a22-2c91-4cb0-a859-77a5b9e986e5",
   "metadata": {},
   "source": [
    "But it's easier to use with the aws command line.  So that's what we'll do."
   ]
  },
  {
   "cell_type": "markdown",
   "id": "82b199be-1e74-4090-a195-184b6d69716a",
   "metadata": {},
   "source": [
    "Before moving on, let's just go through a couple of terms.  \n",
    "\n",
    "* Eventbridge is what receives events and forwards to different services.  For example, when our S3 object triggered our lambda function, it published an eventbridge event that was sent to eventbridge.  \n",
    "\n",
    "* Eventbridge rule - We can then create an eventbridge rule that specifies the target of the event.  An eventbridge rule can also filter for specific subset of events, and only respond to those that match.\n",
    "\n",
    "* Event - An event is just some JSON that eventbridge receives. "
   ]
  },
  {
   "cell_type": "markdown",
   "id": "d19ba050-fa65-4e81-a51b-bca8832dd65d",
   "metadata": {},
   "source": [
    "<img src=\"./event-rule.png\">"
   ]
  },
  {
   "cell_type": "markdown",
   "id": "942a555e-808c-476a-a377-d7526f1d596b",
   "metadata": {},
   "source": [
    "Technically we don't say that the event gets sent to eventbridge, but rather that it gets sent to an event bus, that then applies the rule and forwards it along to the target."
   ]
  },
  {
   "cell_type": "markdown",
   "id": "a4aa065a-088c-42ec-9601-b4c45ed15828",
   "metadata": {},
   "source": [
    "<img src=\"./eventbus.png\">"
   ]
  },
  {
   "cell_type": "markdown",
   "id": "a9602819-e5be-4995-a9fe-ca2ad0a3e055",
   "metadata": {},
   "source": [
    "> Compare this to an web application:\n",
    "> * An event being sent to the eventbus is essentially like a user making a request to an API.  Just like a company may build different APIs (eg. the google books api, or google images api), an organization may have different event buses.\n",
    "\n",
    "> * The rule being applied is the route looking for a match and then taking action on the event (performing a database query, for example).  In this case our eventbridge rule decides where to forward the event."
   ]
  },
  {
   "cell_type": "markdown",
   "id": "9aff393b-ac4c-4ba7-bfc7-9c4041d44d31",
   "metadata": {},
   "source": [
    "### Adding the eventbridge scheduler"
   ]
  },
  {
   "cell_type": "markdown",
   "id": "e4be5437-31c6-4960-a395-a42c2e9d46f9",
   "metadata": {},
   "source": [
    "Now in this scenario, we'll add an event bridge scheduler.  We'll use the eventbridge scheduler to generate an event every minute.  With the eventbridge scheduler, we both specify how often the event is created, and also specify the target of the rule."
   ]
  },
  {
   "cell_type": "markdown",
   "id": "1911669c-a766-471b-90ab-9cd0a1db19d4",
   "metadata": {},
   "source": [
    "<img src=\"./eventscheduler.png\" width=\"60%\">"
   ]
  },
  {
   "cell_type": "markdown",
   "id": "f55ade09-d928-4787-9ae0-def9f78f607d",
   "metadata": {},
   "source": [
    "Ok, now let's add the event scheduler through the command line."
   ]
  },
  {
   "cell_type": "markdown",
   "id": "bc460a93-0657-4c01-a781-d7fe9e416c69",
   "metadata": {},
   "source": [
    "First, aws will repeatedly ask us for a region name, if we do not define a default one with aws configure.  So let's do that now.  Type `aws configure` in the command line, and just press `return` when you see AWS Access Key ID, and AWS Secret Access Key so that the defaults are key.  Then when it asks for a default region name, update the region to be the region name closest to you.  "
   ]
  },
  {
   "cell_type": "markdown",
   "id": "0727d980-9f8a-43c4-bc79-de30fc4d067e",
   "metadata": {},
   "source": [
    "<img src=\"./add-region.png\" width=\"80%\">"
   ]
  },
  {
   "cell_type": "markdown",
   "id": "8c87ca82-e7d5-4785-bdad-2ead45fe347b",
   "metadata": {},
   "source": [
    "> You can see a list of region names in the top right of the aws console."
   ]
  },
  {
   "cell_type": "markdown",
   "id": "af0e3df8-14d3-4918-9b02-07f1e7d40281",
   "metadata": {},
   "source": [
    "Ok, so now it's time to create an event rule.  We can do so with the [put-rule](https://docs.aws.amazon.com/cli/latest/reference/events/put-rule.html) command."
   ]
  },
  {
   "cell_type": "markdown",
   "id": "b39d408b-855a-4c4f-b508-2eba90dcdbc5",
   "metadata": {},
   "source": [
    "```bash\n",
    "aws events put-rule \\\n",
    "--name run-each-minute \\\n",
    "--schedule-expression 'rate(1 minute)'\n",
    "```"
   ]
  },
  {
   "cell_type": "markdown",
   "id": "cf00c256-bf78-4be8-9f2d-06509a180b1d",
   "metadata": {},
   "source": [
    "And this will return an arn number, in a format like so."
   ]
  },
  {
   "cell_type": "markdown",
   "id": "f3bc7ef8-0461-4703-847a-a68cb7f777e6",
   "metadata": {},
   "source": [
    "```json\n",
    "{\n",
    "    \"RuleArn\": \"arn:aws:events:us-east-1:086729879076:rule/run-each-minute\"\n",
    "}\n",
    "```"
   ]
  },
  {
   "cell_type": "markdown",
   "id": "2b4bf29d-367a-4bc0-bf8c-effd1e9946af",
   "metadata": {},
   "source": [
    "If you look go to Eventbridge and click on rules, you should now see the rule `run-each-minute-rule` (make sure your console's region is the same region as the default region you set.)"
   ]
  },
  {
   "cell_type": "markdown",
   "id": "1639f7cd-4f73-4c99-ab87-b079016b2486",
   "metadata": {},
   "source": [
    "<img src=\"./eventbridge-rule.png\" width=\"70%\">"
   ]
  },
  {
   "cell_type": "markdown",
   "id": "70bb14ab-5a85-4f0e-b4ba-ed4a6e160aa2",
   "metadata": {},
   "source": [
    "> And if you click on that rule, you can also find the arn number there."
   ]
  },
  {
   "cell_type": "markdown",
   "id": "55f1b9c7-593a-4e1a-a102-862dec998e4c",
   "metadata": {},
   "source": [
    "Ok, so we just created an eventbridge rule, that will create events every minute -- where an AWS event is just some json that looks like the following. "
   ]
  },
  {
   "cell_type": "markdown",
   "id": "bacb5d49-c963-480c-86d8-d4583958fdb3",
   "metadata": {},
   "source": [
    "```json\n",
    "{\n",
    "    \"version\": \"0\",\n",
    "    \"id\": \"53dc4d37-cffa-4f76-80c9-8b7d4a4d2eaa\",\n",
    "    \"detail-type\": \"Scheduled Event\",\n",
    "    \"source\": \"aws.events\",\n",
    "    \"account\": \"123456789012\",\n",
    "    \"time\": \"2015-10-08T16:53:06Z\",\n",
    "    \"region\": \"us-east-1\",\n",
    "    \"resources\": [\n",
    "        \"RuleArn\": \"arn:aws:events:us-east-1:086729879076:rule/run-each-minute\"\n",
    "    ],\n",
    "    \"detail\": {}\n",
    "}\n",
    "```"
   ]
  },
  {
   "cell_type": "markdown",
   "id": "fe424be8-92d3-4ffe-a45e-c97960be8ea4",
   "metadata": {},
   "source": [
    "So now that we have this rule that pumps out these events every minute, the next step is to tell our lambda function to trust these events.  Then, after that, we'll send these events to our lambda function."
   ]
  },
  {
   "cell_type": "markdown",
   "id": "f00b96bb-1f0a-4a85-b9a6-9c528394e210",
   "metadata": {},
   "source": [
    "Ok, to tell our lambda function to trust these cloudwatch events service (which the event scheduler is a part of), we give our lambda function the following permission."
   ]
  },
  {
   "cell_type": "markdown",
   "id": "a8c51077-1273-45a6-a3a1-e7989c8f0c88",
   "metadata": {},
   "source": [
    "```bash\n",
    "aws lambda add-permission \\\n",
    "--function-name testfunction \\\n",
    "--action 'lambda:InvokeFunction' \\\n",
    "--statement-id scheduled-event \\\n",
    "--principal events.amazonaws.com \\\n",
    "--source-arn arn:aws:events:us-east-1:086729879076:rule/run-each-minute\n",
    "```"
   ]
  },
  {
   "cell_type": "markdown",
   "id": "c650e2e5-fc20-49dc-ac47-d5510ca5bc07",
   "metadata": {},
   "source": [
    "Once we run the above, we can return to the AWS console and refresh our lambda function to see our eventbridge scheduler attached to it."
   ]
  },
  {
   "cell_type": "markdown",
   "id": "b7ebbb15-3bbe-4b85-8654-a51bdc7fbcf7",
   "metadata": {},
   "source": [
    "> We could also just update the policy associated with our lambda function by adding something like the follow (you'd have to change the Resource arn to match your lambda function)."
   ]
  },
  {
   "cell_type": "markdown",
   "id": "277f5923-0e86-4a92-8497-2abcf1aeabd4",
   "metadata": {},
   "source": [
    "```json\n",
    "{\n",
    "    \"Version\": \"2012-10-17\",\n",
    "    \"Statement\": [\n",
    "        {\n",
    "            \"Sid\": \"AllowEventBridgeToInvokeLambda\",\n",
    "            \"Effect\": \"Allow\",\n",
    "            \"Action\": \"lambda:InvokeFunction\",\n",
    "            \"Resource\": \"arn:aws:lambda:us-east-1:086729879076:function:testfunction\",\n",
    "            \"Condition\": {\n",
    "                \"ArnLike\": {\n",
    "                    \"AWS:SourceArn\": \"arn:aws:events:us-east-1:086729879076:rule/run-each-minute\"\n",
    "                }\n",
    "            }\n",
    "        }\n",
    "    ]\n",
    "}\n",
    "```"
   ]
  },
  {
   "cell_type": "markdown",
   "id": "21b47c87-7315-4136-806c-13f4ad068a5a",
   "metadata": {},
   "source": [
    "<img src=\"./attached-eventbridge.png\" width=\"100%\">"
   ]
  },
  {
   "cell_type": "markdown",
   "id": "f575f7d7-52e4-4f1c-8643-df3ac7548917",
   "metadata": {},
   "source": [
    "But even though we see our cloudwatch events listed, if from the lambda function page, you click on the monitor panel, and then logs, you'll see there were still no recent invocations of our lambda function."
   ]
  },
  {
   "cell_type": "markdown",
   "id": "811a29f0-e65e-41b6-be74-2adc31445681",
   "metadata": {},
   "source": [
    "<img src=\"./monitor-logs.png\">"
   ]
  },
  {
   "cell_type": "markdown",
   "id": "5e5add24-740b-42a3-a268-9f337eb53625",
   "metadata": {},
   "source": [
    "This actually makes sense.  This is because we'll also need to specify the target of our eventscheduler.  That is, so far we created our event scheduler, we gave our lambda function permission to receieve these events, but we still did not tell our event scheduler to **deliver** these events.  "
   ]
  },
  {
   "cell_type": "markdown",
   "id": "441dd9c2-58e9-4e3f-aec8-d39110f21328",
   "metadata": {},
   "source": [
    "To do that, first create a `targets.json` file (in the directory from where you have been calling the CLI functions.  And in that `targets.json` file, you can specify the target of your event -- here the lambda function."
   ]
  },
  {
   "cell_type": "markdown",
   "id": "3874e8a4-8cce-44d6-aa5e-fd1eff33746b",
   "metadata": {},
   "source": [
    "```json\n",
    "[\n",
    "  {\n",
    "    \"Id\": \"1\", \n",
    "    \"Arn\": \"arn:aws:lambda:us-east-1:086729879076:function:testfunction\",\n",
    "    \"Input\": \"{\\\"key\\\":\\\"value\\\"}\"\n",
    "  }\n",
    "]\n",
    "```"
   ]
  },
  {
   "cell_type": "markdown",
   "id": "1c998220-f66e-48f8-a2dd-1334ec5416ba",
   "metadata": {},
   "source": [
    "> **Note:** Above, you'll need to specify the arn number of **your** lambda function, which you can find either in the top right of your lambda function in the AWS web console (where it says copy arn), or you can also just call `aws lambda list-functions` to see a list of all lambdas, and their respective arns."
   ]
  },
  {
   "cell_type": "markdown",
   "id": "0ae72447-ce3b-42e8-ba97-ba6a7a2ba2e4",
   "metadata": {},
   "source": [
    "Ok, so now that we have created the appropriate `targets.json` file, we can run something like the following."
   ]
  },
  {
   "cell_type": "markdown",
   "id": "f7b33fac-7216-49ea-99a4-887170c2d937",
   "metadata": {},
   "source": [
    "```bash\n",
    "aws events put-targets --rule run-each-minute --targets file://targets.json\n",
    "```"
   ]
  },
  {
   "cell_type": "markdown",
   "id": "b17d99a1-c227-4b5a-86b5-81d1b24a63b6",
   "metadata": {},
   "source": [
    "> Where above, after the --rule argument, we specify the name of our event rule.  If you forget your event rule name, you can view a list of your event rules by running: \n",
    "\n",
    "> `aws events list-rules`"
   ]
  },
  {
   "cell_type": "markdown",
   "id": "7ca34884-4a91-4088-b7f7-01b2029ed61e",
   "metadata": {},
   "source": [
    "We should be able to see our target listed on our rule with something like the following."
   ]
  },
  {
   "cell_type": "markdown",
   "id": "5c30ccef-eabb-4f76-a7d5-e2715f52075a",
   "metadata": {},
   "source": [
    "```bash\n",
    "aws events list-targets-by-rule --rule run-each-minute\n",
    "```"
   ]
  },
  {
   "cell_type": "markdown",
   "id": "7a391809-f4ed-46b5-8387-7a3254e791cb",
   "metadata": {},
   "source": [
    "We can also view the target from AWS webconsole, by clicking on our eventbridge rule, and then clicking on the `targets` panel.  From there, we should see our lambda function listed as the target of the eventbridge rule."
   ]
  },
  {
   "cell_type": "markdown",
   "id": "fc804dd2-a93c-454b-90f2-7fe4859b2aaa",
   "metadata": {},
   "source": [
    "<img src=\"./display-target.png\">"
   ]
  },
  {
   "cell_type": "markdown",
   "id": "62c5bb75-23ac-4280-b46d-cac770fa3b53",
   "metadata": {
    "tags": []
   },
   "source": [
    "### View our lambda calls"
   ]
  },
  {
   "cell_type": "markdown",
   "id": "bf440db2-fa01-4471-8489-a8d4579c6d28",
   "metadata": {},
   "source": [
    "Ok, so now we have:\n",
    "1. Built the eventbridge rule that repeatedly creates events, and \n",
    "2. Given our aws lambda function permission to receive the events, and\n",
    "3. Specified the target of the events to be our lambda function.\n",
    "\n",
    "So now if we look at our lambda function's monitor panel, we can see that our lambda function has been called."
   ]
  },
  {
   "cell_type": "markdown",
   "id": "edcd699c-6db8-4851-a511-ebf1e5fafc3b",
   "metadata": {},
   "source": [
    "<img src=\"./calls.png\" width=\"100%\">"
   ]
  },
  {
   "cell_type": "markdown",
   "id": "c6d64342-dcdc-437c-9d65-29f9498e6934",
   "metadata": {},
   "source": [
    "We can view more details from the cloudwatch service -- so type that into the aws search console."
   ]
  },
  {
   "cell_type": "markdown",
   "id": "9ab97f8a-ee89-4bbc-9a89-510f76c0d47c",
   "metadata": {},
   "source": [
    "<img src=\"./cloud-watch.png\" width=\"70%\">"
   ]
  },
  {
   "cell_type": "markdown",
   "id": "3c00cf1a-7b05-4400-8910-159917fdeadb",
   "metadata": {},
   "source": [
    "And after clicking on CloudWatch, then you can click on log groups, followed by the log group related to the lambda function."
   ]
  },
  {
   "cell_type": "markdown",
   "id": "78539b9c-f41b-4644-90af-c3a6d2319634",
   "metadata": {},
   "source": [
    "<img src=\"./cloudwatch-logs.png\" width=\"70%\">"
   ]
  },
  {
   "cell_type": "markdown",
   "id": "b6caaf89-d9ba-4fd1-8c58-bbe0f2b37121",
   "metadata": {},
   "source": [
    "And there, we can view see the logs of our lambda function."
   ]
  },
  {
   "cell_type": "markdown",
   "id": "2388aabc-f4f8-4dee-a538-2a0f9ae3d605",
   "metadata": {},
   "source": [
    "<img src=\"./k-v-event.png\" width=\"100%\">"
   ]
  },
  {
   "cell_type": "markdown",
   "id": "9450458d-033a-4b8b-9c10-553c91417025",
   "metadata": {},
   "source": [
    "Notice that in the logs, we do not see the return value, but only the data we decided to `print`.  In this case, this included the `function called` string, as well as the event, in the line above."
   ]
  },
  {
   "cell_type": "markdown",
   "id": "f5807966-745b-44e7-a684-08a1b45b00dd",
   "metadata": {},
   "source": [
    "### Deleting the scheduler\n",
    "\n",
    "Finally, because there is a cost associated with repeatedly calling our lambda function, it's a good idea to delete or pause our scheduler.   We can do so by going to the event bridge rule, clicking the `Delete` button and confirming that we want to delete the rule."
   ]
  },
  {
   "cell_type": "markdown",
   "id": "86e932bb-eec5-4225-aaae-83f085024a0e",
   "metadata": {},
   "source": [
    "<img src=\"./delete-event.png\" width=\"100%\">"
   ]
  },
  {
   "cell_type": "markdown",
   "id": "56c870dc-735d-4fdd-98b2-dffa1a6b86f2",
   "metadata": {},
   "source": [
    "### Summary"
   ]
  },
  {
   "cell_type": "markdown",
   "id": "879e2a4b-11f3-4533-a20a-a9f1fa68a532",
   "metadata": {},
   "source": [
    "In this lesson, we saw how to repeatedly invoke our lambda function by setting up an eventscheduler.  We did so by first setting up our lambda function, and then setting a cloudwatch rule with the following:\n",
    "\n",
    "```bash\n",
    "aws events put-rule --name run-each-minute --schedule-expression 'rate(1 minute)'\n",
    "```\n",
    "\n",
    "And then added a permission to our lambda function to accept events created by the rule.\n",
    "```\n",
    "aws lambda add-permission \\\n",
    "--function-name testfunction \\\n",
    "--action 'lambda:InvokeFunction' \\\n",
    "--statement-id scheduled-event \\\n",
    "--principal events.amazonaws.com \\\n",
    "--source-arn arn:aws:events:us-east-1:086729879076:rule/run-each-minute\n",
    "```\n",
    "\n",
    "Finally, we created a `targets.json` file:\n",
    "```json\n",
    "[\n",
    "  {\n",
    "    \"Id\": \"1\", \n",
    "    \"Arn\": \"arn:aws:lambda:us-east-1:086729879076:function:testfunction\",\n",
    "    \"Input\": \"{\\\"key\\\":\\\"value\\\"}\"\n",
    "  }\n",
    "]\n",
    "```\n",
    "\n",
    "And then used it to set our lambda function as a target of the rule:\n",
    "\n",
    "```bash\n",
    "aws events put-targets --rule run-each-minute --targets file://targets.json\n",
    "```"
   ]
  },
  {
   "cell_type": "markdown",
   "id": "8ea2f5c9-8065-4729-96ca-ef2bb3a01d54",
   "metadata": {},
   "source": [
    "And from there, used the cloudwatch service to view logs of the rule."
   ]
  },
  {
   "cell_type": "markdown",
   "id": "a2910556-0d92-4d3a-ae54-74ed42738410",
   "metadata": {},
   "source": [
    "<img src=\"./cloudwatch-logs.png\" width=\"70%\">"
   ]
  },
  {
   "cell_type": "markdown",
   "id": "faf2abf6-37b6-40fc-93f5-b1a5e877f26d",
   "metadata": {},
   "source": [
    "### Resources\n",
    "\n",
    "[Eventbridge AWS](https://docs.aws.amazon.com/eventbridge/latest/userguide/eb-what-is.html)\n",
    "\n",
    "[Lambda Schedule Tutorial](https://docs.aws.amazon.com/AmazonCloudWatch/latest/events/RunLambdaSchedule.html)\n",
    "\n",
    "[Lambda foundations](https://docs.aws.amazon.com/lambda/latest/dg/lambda-foundation.html)\n",
    "\n",
    "[Stackify AWS Lambda](https://stackify.com/aws-lambda-with-python-a-complete-getting-started-guide/)\n",
    "\n",
    "[Python context](https://docs.aws.amazon.com/lambda/latest/dg/python-context.html)\n",
    "\n",
    "[Eventbridge Scheduler Docs](https://aws.amazon.com/blogs/compute/introducing-amazon-eventbridge-scheduler/)"
   ]
  }
 ],
 "metadata": {
  "kernelspec": {
   "display_name": "Python 3 (ipykernel)",
   "language": "python",
   "name": "python3"
  },
  "language_info": {
   "codemirror_mode": {
    "name": "ipython",
    "version": 3
   },
   "file_extension": ".py",
   "mimetype": "text/x-python",
   "name": "python",
   "nbconvert_exporter": "python",
   "pygments_lexer": "ipython3",
   "version": "3.9.12"
  }
 },
 "nbformat": 4,
 "nbformat_minor": 5
}
