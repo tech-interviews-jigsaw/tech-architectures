{
 "cells": [
  {
   "cell_type": "markdown",
   "id": "0006966b-9f73-49ab-892e-7cab2e3a8408",
   "metadata": {},
   "source": [
    "# AWS Lambda "
   ]
  },
  {
   "cell_type": "markdown",
   "id": "8b3d1c5c-c2b7-4be0-a7f0-c90d42b47e51",
   "metadata": {},
   "source": [
    "### Introduction"
   ]
  },
  {
   "cell_type": "markdown",
   "id": "0d12122d-b70f-4484-9cbc-374f1d0ca65e",
   "metadata": {},
   "source": [
    "In this function we'll learn about using the AWS lambda service.  As we'll see, lambda is a service that runs code in response to events.  It is called serverless, because you do not pay for a running computer like an EC2 server.  \n",
    "\n",
    "Instead, you simply pay for the number of times the lambda function is invoked, and the length of time it takes to invoke the function.  So for this reason, lambda is considered a pay as you go service.\n",
    "\n",
    "You can read more about the benefits of AWS lambda [here](https://www.checkpoint.com/cyber-hub/cloud-security/what-is-serverless-security/benefits-of-aws-lambda-for-cloud-computing/)."
   ]
  },
  {
   "cell_type": "markdown",
   "id": "61311e42-23fa-4a31-807f-43dca34ecef2",
   "metadata": {},
   "source": [
    "### Getting Started"
   ]
  },
  {
   "cell_type": "markdown",
   "id": "bf66a3f3-e795-443e-ab1e-2d48bfa74606",
   "metadata": {},
   "source": [
    "We can begin by going to our AWS console and clicking on lambda.\n",
    "\n",
    "From there, give our lambda function a name, and specify the runtime as Python3.10.  \n",
    "\n",
    "We can choose to Create a new role with basic lambda permissions."
   ]
  },
  {
   "cell_type": "markdown",
   "id": "fd00d0f2-1ec8-472c-936d-e26305a3bd66",
   "metadata": {},
   "source": [
    "<img src=\"./aws-permissions.png\" width=\"100%\">"
   ]
  },
  {
   "cell_type": "markdown",
   "id": "f33cf8e4-83ca-41a3-81e3-a868c0ea42f5",
   "metadata": {},
   "source": [
    "Then click on the orange `Create Function` button."
   ]
  },
  {
   "cell_type": "markdown",
   "id": "03410e9c-f4ff-4360-bf12-7b285abfd4c8",
   "metadata": {},
   "source": [
    "### Working with lambda"
   ]
  },
  {
   "cell_type": "markdown",
   "id": "ccb70f4a-d25a-41c4-8176-e69d602d521f",
   "metadata": {},
   "source": [
    "We can begin by updating our function to the following:"
   ]
  },
  {
   "cell_type": "markdown",
   "id": "b65c79a8-c3f1-4235-9382-2455a9ae6bc6",
   "metadata": {},
   "source": [
    "<img src=\"./deploy.png\" width=\"70%\">"
   ]
  },
  {
   "cell_type": "markdown",
   "id": "94f3cb6f-4ca8-4a0d-9399-ab8baaff7683",
   "metadata": {},
   "source": [
    "```python\n",
    "import json\n",
    "\n",
    "def lambda_handler(event, context):\n",
    "    \n",
    "    return {\n",
    "        'statusCode': 200,\n",
    "        'body': \"hello everyone\"\n",
    "    }\n",
    "```"
   ]
  },
  {
   "cell_type": "markdown",
   "id": "5c30de03-d22c-418d-bf2d-ddcaab187291",
   "metadata": {},
   "source": [
    "Then click on the `Deploy` button to save the updates to our function.  And from there, we can test our function by clicking on the `test` button. "
   ]
  },
  {
   "cell_type": "markdown",
   "id": "eef1b7d9-83e1-4453-a3a1-33bcb0cca02e",
   "metadata": {},
   "source": [
    "> Fill out something liek the following -- create a new event, name it, and set some json as the event."
   ]
  },
  {
   "cell_type": "markdown",
   "id": "f1f52758-9ade-4b76-b991-09095944fa9b",
   "metadata": {},
   "source": [
    "<img src=\"./rest-search.png\" width=\"70%\">"
   ]
  },
  {
   "cell_type": "markdown",
   "id": "d7740dc8-a012-4417-a80c-3848e05c8626",
   "metadata": {},
   "source": [
    "Once we set this up, we can click the blue Test button, to run the event, and can see our json response from the lambda function is returned."
   ]
  },
  {
   "cell_type": "markdown",
   "id": "2c124887-71e8-4ba9-8d53-1784ef2c7788",
   "metadata": {},
   "source": [
    "<img src=\"./tested-event.png\" width=\"70%\">"
   ]
  },
  {
   "cell_type": "markdown",
   "id": "540014e5-7fbb-48f4-8f5e-0cacf161ccd2",
   "metadata": {},
   "source": [
    "Ok, so next let's actually use some of the data provided in our test event.  We'll update our code in the lambda function to be the following."
   ]
  },
  {
   "cell_type": "markdown",
   "id": "a06a2a30-f1d6-4387-a295-2a3d2b47981e",
   "metadata": {},
   "source": [
    "```python\n",
    "def lambda_handler(event, context):\n",
    "    print('function called')\n",
    "    return {\n",
    "        'statusCode': 200,\n",
    "        'body': \"hello everyone\",\n",
    "        'restaurant_name': event['name']\n",
    "    }\n",
    "```"
   ]
  },
  {
   "cell_type": "markdown",
   "id": "3412f866-1768-4774-aeac-a5007f6b6bdf",
   "metadata": {},
   "source": [
    "So we can see see that a lambda function effectively works like a route in a Flask API.  The return value is what is returned from the api.  And if we provide event data to our `lambda_handler`, we can access that data through the `event` argument.\n",
    "\n",
    "So above we are accessing our event data through `event['name']`."
   ]
  },
  {
   "cell_type": "markdown",
   "id": "1af10b81-f23f-478c-b7f0-039fe3c98c32",
   "metadata": {},
   "source": [
    "Let's call the event by again clicking on the test button"
   ]
  },
  {
   "cell_type": "markdown",
   "id": "263271d4-5639-4bef-bb79-709bab8b35e1",
   "metadata": {},
   "source": [
    "<img src=\"./test-result.png\" width=\"100%\">"
   ]
  },
  {
   "cell_type": "markdown",
   "id": "2e69c2a0-6fe1-4cb1-8238-8e0b813bbfa7",
   "metadata": {},
   "source": [
    "Adn so we can see in the execution results tab, that it did retrieve the `event['name']`, returning it as `HONDURAS MAYA CAFE & BAR`."
   ]
  },
  {
   "cell_type": "markdown",
   "id": "f4aca83b-da92-45b6-a132-74aa37d47ad9",
   "metadata": {},
   "source": [
    "So this is one way to see that our function was executed, but more typical is to use cloudwatch.  \n",
    "\n",
    "If you click on the `Monitor` panel, and then click on View Cloudwatch logs, you can see logging of when our function was called.\n",
    "\n",
    "<img src=\"./view-cloudwatch.png\">"
   ]
  },
  {
   "cell_type": "markdown",
   "id": "4782b470-3c33-443e-812d-4d9c8ed994b0",
   "metadata": {},
   "source": [
    "Clicking on a logstream, will show you logs of the function being invoked.  \n",
    "\n",
    "> However, the return value is not displayed in the logs.  If you want to display something in the logs you can call `print` from inside of the function to specify what you want displayed. "
   ]
  },
  {
   "cell_type": "markdown",
   "id": "8c7d6f05-2094-44f2-bd63-d8c2d88370d6",
   "metadata": {
    "tags": []
   },
   "source": [
    "#### The context object"
   ]
  },
  {
   "cell_type": "markdown",
   "id": "a79f0dbc-410b-47d5-b4a6-c274b26c9fdc",
   "metadata": {},
   "source": [
    "Ok, so we already saw that we can use information in the event to display information about that event."
   ]
  },
  {
   "cell_type": "markdown",
   "id": "e529c74c-1f8e-41fb-9cb3-8e8c30dfb7dc",
   "metadata": {},
   "source": [
    "```python\n",
    "def lambda_handler(event, context):\n",
    "    print('function called')\n",
    "    return {\n",
    "        'statusCode': 200,\n",
    "        'body': \"hello everyone\",\n",
    "        'restaurant_name': event['name']\n",
    "    }\n",
    "```"
   ]
  },
  {
   "cell_type": "markdown",
   "id": "2ccf6f99-5f5c-40be-b900-cb8a264da752",
   "metadata": {},
   "source": [
    "But, as you probably noticed there is also a second argument called *context* and this gives us access to metadata about the event and the lambda function.  For example, if you look at [the documentation](https://docs.aws.amazon.com/lambda/latest/dg/python-context.html), you can see some of the information available to you in the context argument.  \n",
    "\n",
    "```python\n",
    "def lambda_handler(event, context):   \n",
    "    print(\"Lambda function ARN:\", context.invoked_function_arn)\n",
    "    print(\"Lambda Request ID:\", context.aws_request_id)\n",
    "```"
   ]
  },
  {
   "cell_type": "markdown",
   "id": "a8c59560-4e08-4bc6-b2d9-a726efcc82b3",
   "metadata": {},
   "source": [
    "But as it turns out, we don't need to use this context object right now."
   ]
  },
  {
   "cell_type": "markdown",
   "id": "ae581480-2690-43fe-8d15-3b185464640d",
   "metadata": {},
   "source": [
    "### Summary"
   ]
  },
  {
   "cell_type": "markdown",
   "id": "b5390921-15aa-4d5d-a4b1-ca3c74f51fee",
   "metadata": {},
   "source": [
    "In this lesson, we learned about the AWS lambda function.  This function gives us access to serverless computing, meaning that we do not need to have a running EC2 machine to invoke our function.  Instead, we only pay for when our lambda function is invoked.  We saw that our lambda function responds to events, and that we can change the output of our lambda function through those events.  Review some of the benefits of using a lambda function [here](https://www.checkpoint.com/cyber-hub/cloud-security/what-is-serverless-security/benefits-of-aws-lambda-for-cloud-computing/)."
   ]
  },
  {
   "cell_type": "markdown",
   "id": "9145d9b2-9651-4c4f-af5f-47246b20c354",
   "metadata": {},
   "source": [
    "### Resources\n",
    "\n",
    "[Lambda benefits](https://www.checkpoint.com/cyber-hub/cloud-security/what-is-serverless-security/benefits-of-aws-lambda-for-cloud-computing/)\n",
    "\n",
    "[Lambda foundations](https://docs.aws.amazon.com/lambda/latest/dg/lambda-foundation.html)\n",
    "\n",
    "[Stackify AWS Lambda](https://stackify.com/aws-lambda-with-python-a-complete-getting-started-guide/)\n",
    "\n",
    "[Python context](https://docs.aws.amazon.com/lambda/latest/dg/python-context.html)\n",
    "\n",
    "[Eventbridge Scheduler Docs](https://aws.amazon.com/blogs/compute/introducing-amazon-eventbridge-scheduler/)"
   ]
  }
 ],
 "metadata": {
  "kernelspec": {
   "display_name": "Python 3 (ipykernel)",
   "language": "python",
   "name": "python3"
  },
  "language_info": {
   "codemirror_mode": {
    "name": "ipython",
    "version": 3
   },
   "file_extension": ".py",
   "mimetype": "text/x-python",
   "name": "python",
   "nbconvert_exporter": "python",
   "pygments_lexer": "ipython3",
   "version": "3.9.12"
  }
 },
 "nbformat": 4,
 "nbformat_minor": 5
}
