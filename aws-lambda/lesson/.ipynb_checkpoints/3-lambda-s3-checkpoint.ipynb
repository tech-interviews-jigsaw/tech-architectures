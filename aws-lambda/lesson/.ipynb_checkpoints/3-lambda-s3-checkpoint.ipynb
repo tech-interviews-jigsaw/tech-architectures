{
 "cells": [
  {
   "cell_type": "markdown",
   "id": "4de70196-4ab1-4919-8b14-d5f1be62d16e",
   "metadata": {},
   "source": [
    "# Triggering the Lambda Function"
   ]
  },
  {
   "cell_type": "markdown",
   "id": "661d714f-d29c-49b0-b8bd-a0ac4c544b14",
   "metadata": {},
   "source": [
    "### Introduction"
   ]
  },
  {
   "cell_type": "markdown",
   "id": "0792484a-8c02-4ac0-9dc1-20373718c356",
   "metadata": {},
   "source": [
    "As we know, our lambda function is invoked by different events.  In this lesson, we'll set up our lambda function to be called by one of these events, which is uploading an object to a specified bucket.  \n",
    "\n",
    "Let's get started.\n",
    "\n",
    "> The below is adapted from the following [aws tutorial](https://docs.aws.amazon.com/lambda/latest/dg/with-s3-example.html)."
   ]
  },
  {
   "cell_type": "markdown",
   "id": "ec627b3e-bf1e-4351-8a6e-2f6d37ef1eea",
   "metadata": {},
   "source": [
    "### Creating a bucket"
   ]
  },
  {
   "cell_type": "markdown",
   "id": "aecd2ea8-82b8-4421-8025-8d3f6991f02f",
   "metadata": {},
   "source": [
    "Our first step is to create an AWS bucket.  This will be the bucket that will trigger our lambda function.  \n",
    "\n",
    "There's no special configuration here -- just set a name and use the default configurations.  \n",
    "\n",
    "> The only thing to pay attention to is that the region you create your bucket in matches the region you'll create your lambda function in."
   ]
  },
  {
   "cell_type": "markdown",
   "id": "245cba8a-e169-45c1-ab68-620949381b17",
   "metadata": {},
   "source": [
    "### Create a policy"
   ]
  },
  {
   "cell_type": "markdown",
   "id": "3cd38853-d9ff-4113-9b4e-3057365a0e99",
   "metadata": {},
   "source": [
    "Now that we created our triggering bucket, the next step would be to create our lambda function.  But, before we do so, let's create a custom policy to attach to our lambda function.\n",
    "\n",
    "Go to the [policies page](https://console.aws.amazon.com/iam/home#/policies), which you can also find under the IAM resource in the web console.  And then click on create policy, and then the JSON tab."
   ]
  },
  {
   "cell_type": "markdown",
   "id": "35842d13-2faa-4249-a8b5-252c54e31785",
   "metadata": {},
   "source": [
    "<img src=\"./click-json.png\" width=\"100%\">"
   ]
  },
  {
   "cell_type": "markdown",
   "id": "5a39432a-6a0f-4cec-ac7f-2173a5cea26e",
   "metadata": {},
   "source": [
    "Then paste in the following json:"
   ]
  },
  {
   "cell_type": "markdown",
   "id": "5ae0e88f-44b0-4579-bc79-24a3f7dd77c7",
   "metadata": {},
   "source": [
    "```json\n",
    "{\n",
    "    \"Version\": \"2012-10-17\",\n",
    "    \"Statement\": [\n",
    "        {\n",
    "            \"Effect\": \"Allow\",\n",
    "            \"Action\": [\n",
    "                \"logs:PutLogEvents\",\n",
    "                \"logs:CreateLogGroup\",\n",
    "                \"logs:CreateLogStream\"\n",
    "            ],\n",
    "            \"Resource\": \"arn:aws:logs:*:*:*\"\n",
    "        },\n",
    "        {\n",
    "            \"Effect\": \"Allow\",\n",
    "            \"Action\": [\n",
    "                \"s3:GetObject\"\n",
    "            ],\n",
    "            \"Resource\": \"arn:aws:s3:::*/*\"\n",
    "        }\n",
    "    ]\n",
    "}\n",
    "```"
   ]
  },
  {
   "cell_type": "markdown",
   "id": "be98bac4-ed83-4f4a-998f-7e910c7f3072",
   "metadata": {},
   "source": [
    "So above you can see that we added a policy with two statements.  The first is to give our lambda function access to cloudwatch, so that it can create log events when our function is called.\n",
    "\n",
    "And the second is to allow our lambda function to read from the s3 bucket."
   ]
  },
  {
   "cell_type": "markdown",
   "id": "1eb5ff0f-fa76-4e43-833f-21a16ec6ecff",
   "metadata": {},
   "source": [
    "Ok, from there, fill in a policy name like `lambdas3trigger`."
   ]
  },
  {
   "cell_type": "markdown",
   "id": "21ba1445-90ff-4218-9522-d19e51a00273",
   "metadata": {},
   "source": [
    "<img src=\"./lambda-trigger.png\" width=\"100%\">"
   ]
  },
  {
   "cell_type": "markdown",
   "id": "4b2bf123-4971-473f-8573-f8bbcd25557a",
   "metadata": {},
   "source": [
    "And click on the blue `Create Policy` button."
   ]
  },
  {
   "cell_type": "markdown",
   "id": "d20c1c5b-b405-48a1-8015-518fcd37440f",
   "metadata": {},
   "source": [
    "Now that we have created a policy, the next step is to attach the policy to an IAM role.  So go to [roles](https://console.aws.amazon.com/iam/home#/roles), and click on `Create Role`.  \n",
    "\n",
    "From there choose AWS service, and click the option next to `Lambda`."
   ]
  },
  {
   "cell_type": "markdown",
   "id": "68717e0e-87d6-4845-b00f-0e8a032563a7",
   "metadata": {},
   "source": [
    "<img src=\"./service-lambda.png\" width=\"100%\">"
   ]
  },
  {
   "cell_type": "markdown",
   "id": "7a47cdab-bd3f-4a43-bb07-08e1b5cb6213",
   "metadata": {},
   "source": [
    "From here, we can attach the custom policy that we just created.  "
   ]
  },
  {
   "cell_type": "markdown",
   "id": "146df065-eb55-4a31-a6b2-c6dcbed70b39",
   "metadata": {},
   "source": [
    "<img src=\"./lambdas3.png\" width=\"100%\">"
   ]
  },
  {
   "cell_type": "markdown",
   "id": "2a878d60-e42c-48e4-ad0d-e6bc30871ae8",
   "metadata": {},
   "source": [
    "From there, click `Next` and give your role a name (eg. s3-trigger-role).   "
   ]
  },
  {
   "cell_type": "markdown",
   "id": "94626b3d-0c4c-4fdd-aa59-4764cfd2b4ce",
   "metadata": {},
   "source": [
    "### Creating the lambda function"
   ]
  },
  {
   "cell_type": "markdown",
   "id": "fee76608-1d93-40bc-a341-b8229f71b361",
   "metadata": {},
   "source": [
    "Ok, so we just created a role with a policy that allows our lambda function to both access S3 objects, and create new log events.  \n",
    "\n",
    "The next step is to create the lambda function itself.  Search for lambda in the console, and click author from scratch.  Then give the function a name, and choose Python3.10 as the runtime."
   ]
  },
  {
   "cell_type": "markdown",
   "id": "e7ea2432-b882-4b5b-8b07-5c85acdad152",
   "metadata": {},
   "source": [
    "<img src=\"./lambda-s3.png\">"
   ]
  },
  {
   "cell_type": "markdown",
   "id": "f19f3cab-d72d-4daf-a560-40984e0df4e8",
   "metadata": {},
   "source": [
    "You'll need to apply an existing role -- the role that we just created.  This is what will allow our lambda function to interact with S3 and cloudwatch."
   ]
  },
  {
   "cell_type": "markdown",
   "id": "e4637829-da60-468e-a95b-7a0746c853c9",
   "metadata": {},
   "source": [
    "### Adding the trigger"
   ]
  },
  {
   "cell_type": "markdown",
   "id": "fce9d2e6-1928-4722-af74-426ad5eb56a0",
   "metadata": {},
   "source": [
    "Ok, so now we can add a trigger to our lambda function.  Do so by clicking on the `Add trigger` button in the Function overview panel."
   ]
  },
  {
   "cell_type": "markdown",
   "id": "8d2be0e0-4410-44ad-bd64-9c7cc99a9c15",
   "metadata": {},
   "source": [
    "<img src=\"./lambda-add-trigger.png\" width=\"100%\">"
   ]
  },
  {
   "cell_type": "markdown",
   "id": "116b4374-c20c-4495-921c-7cc42c41f94c",
   "metadata": {},
   "source": [
    "You'll see that AWS provides a variety of services that can trigger a lambda function.  However, the service we are looking for is s3.\n",
    "\n",
    "Choose that, then specify the bucket that you want to trigger your lambda function, and under Event types choose `All object create events`."
   ]
  },
  {
   "cell_type": "markdown",
   "id": "ec8bd134-6ca6-4520-b342-35cf9117b1d3",
   "metadata": {},
   "source": [
    "<img src=\"./all-create.png\" width=\"80%\">"
   ]
  },
  {
   "cell_type": "markdown",
   "id": "c580c778-0f3f-40b4-910a-f41a2c9521f5",
   "metadata": {},
   "source": [
    "> Troubleshooting: If you run into an error, it could be the configuration of your s3 bucket.\n",
    "\n",
    "Go to the bucket, and then click on `properties`.  If you scroll down, you should see that All object create events triggers the lambda function.  However, if there were any error messages, you can try selecting and then deleting the event notification and trying to add the trigger again. "
   ]
  },
  {
   "cell_type": "markdown",
   "id": "8e1c61c4-2455-41a0-b0b2-87fb05ecb861",
   "metadata": {},
   "source": [
    "<img src=\"./properties.png\">"
   ]
  },
  {
   "cell_type": "markdown",
   "id": "d5b8961a-9cac-4512-9ac2-5797f9c34f12",
   "metadata": {},
   "source": [
    "Ok, if the trigger worked, you'll see the s3 bucket added as the trigger in your lambda function's Function overview panel."
   ]
  },
  {
   "cell_type": "markdown",
   "id": "d436aab0-e98e-4b15-b48e-e77cca0db4b7",
   "metadata": {},
   "source": [
    "<img src=\"./s3-trigger.png\" width=\"80%\">"
   ]
  },
  {
   "cell_type": "markdown",
   "id": "d9981632-48b2-4cfe-a410-6faa02773d61",
   "metadata": {},
   "source": [
    "### Testing an invocation"
   ]
  },
  {
   "cell_type": "markdown",
   "id": "fdb12fa7-f11a-4ece-842c-00f3df865869",
   "metadata": {},
   "source": [
    "Ok, time to see if this thing works.  First, let's update the lambda function to the following:"
   ]
  },
  {
   "cell_type": "markdown",
   "id": "071f784c-c689-4a83-b17b-a8363e08352f",
   "metadata": {},
   "source": [
    "```python\n",
    "import json\n",
    "\n",
    "def lambda_handler(event, context):\n",
    "    print('function called')\n",
    "    print('event', event)\n",
    "    return {\n",
    "        'statusCode': 200,\n",
    "        'body': json.dumps('Hello from Lambda!')\n",
    "    }\n",
    "```"
   ]
  },
  {
   "cell_type": "markdown",
   "id": "1c784b4a-f5ac-4106-8269-14b2c607a0d6",
   "metadata": {},
   "source": [
    "And then click `Deploy` to deploy the changes.  From there, we can upload a file to the S3 bucket."
   ]
  },
  {
   "cell_type": "markdown",
   "id": "aaee7989-4cd5-49fc-9d1c-76c35be37ca6",
   "metadata": {},
   "source": [
    "We can see if this worked by going to the `Monitor` panel, in our lambda function."
   ]
  },
  {
   "cell_type": "markdown",
   "id": "c3672446-528a-43c5-a180-34c76b1f185c",
   "metadata": {},
   "source": [
    "<img src=\"./cloudwatch-log.png\" width=\"80%\">"
   ]
  },
  {
   "cell_type": "markdown",
   "id": "3e4ad88b-4351-4a0f-8fa8-a9be6b0b5d4b",
   "metadata": {},
   "source": [
    "If you click on view cloudwatch logs, and then click on one of the log streams, you should see that an event was logged."
   ]
  },
  {
   "cell_type": "markdown",
   "id": "c067e8c4-0752-4adc-9802-be2774eb22c8",
   "metadata": {},
   "source": [
    "<img src=\"./cloudwatch-events.png\" width=\"100%\">"
   ]
  },
  {
   "cell_type": "markdown",
   "id": "6df02fe1-4413-4645-b43d-22daab7ee163",
   "metadata": {},
   "source": [
    "And if you look closely at the event, you can see information about the bucket and key (ie. the object) which produced the event."
   ]
  },
  {
   "cell_type": "markdown",
   "id": "55f04793-bbbe-466f-947a-cdb59b3f4d7b",
   "metadata": {
    "tags": []
   },
   "source": [
    "### Summary\n"
   ]
  },
  {
   "cell_type": "markdown",
   "id": "f2278944-bad6-4e6f-90ef-8fdbfc07485e",
   "metadata": {},
   "source": [
    "In this lesson, we triggered calling our lambda function from uploading an s3 object.  The main step, was setting up our permissions properly -- which we did by creating a policy that had s3 read access and cloudwatch write access (to produce logs).  \n",
    "\n",
    "Then we attached the policy to a role, and the role to our lambda function.  And from there, updated our lambda function to print out our event.  We went to cloudwatch logs to verify that when an object was uploaded to s3, it called our function."
   ]
  },
  {
   "cell_type": "markdown",
   "id": "6a9e7710-bca8-46be-8328-978fb0d83649",
   "metadata": {},
   "source": [
    "### Resources\n",
    "\n",
    "[AWS lambda tutorial](https://docs.aws.amazon.com/lambda/latest/dg/with-s3-example.html)\n",
    "\n",
    "[AWS eventbridge](https://docs.aws.amazon.com/eventbridge/latest/userguide/eb-what-is.html)"
   ]
  }
 ],
 "metadata": {
  "kernelspec": {
   "display_name": "Python 3 (ipykernel)",
   "language": "python",
   "name": "python3"
  },
  "language_info": {
   "codemirror_mode": {
    "name": "ipython",
    "version": 3
   },
   "file_extension": ".py",
   "mimetype": "text/x-python",
   "name": "python",
   "nbconvert_exporter": "python",
   "pygments_lexer": "ipython3",
   "version": "3.9.12"
  }
 },
 "nbformat": 4,
 "nbformat_minor": 5
}
