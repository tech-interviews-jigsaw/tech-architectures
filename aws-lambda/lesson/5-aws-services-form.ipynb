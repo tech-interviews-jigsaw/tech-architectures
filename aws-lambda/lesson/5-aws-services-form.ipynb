{
 "cells": [
  {
   "cell_type": "markdown",
   "id": "25ff6757-0ba1-4ce4-b3ff-f0966449cf6e",
   "metadata": {},
   "source": [
    "# Reviewing AWS Services"
   ]
  },
  {
   "cell_type": "markdown",
   "id": "09e3de76-cd6c-469c-a13e-73878bd8a562",
   "metadata": {},
   "source": [
    "Ok, let's take this opportunity to review the various services we have been using.  Next to each bullet point, please provide a description of the term.  You can imagine an interviewing asking \"What is\" before each term.  For example, \"what is Athena?\""
   ]
  },
  {
   "cell_type": "markdown",
   "id": "a52e97ba-8bf4-4bf7-85df-7d94a4a4a591",
   "metadata": {},
   "source": [
    "> We provided some descriptions for you."
   ]
  },
  {
   "cell_type": "markdown",
   "id": "a43f881f-7759-40b8-8c5d-7dadb4b78144",
   "metadata": {},
   "source": [
    "<img src=\"./architecture.png\">"
   ]
  },
  {
   "cell_type": "markdown",
   "id": "f9056750-a00e-41cf-849e-37edcf166f05",
   "metadata": {},
   "source": [
    "\n",
    "* Serverless architecture\n",
    "\n"
   ]
  },
  {
   "cell_type": "markdown",
   "id": "651456bf-27f3-4ad0-92ca-eeecc2858d90",
   "metadata": {},
   "source": [
    "### Querying and Storage"
   ]
  },
  {
   "cell_type": "markdown",
   "id": "63e8db6c-3700-493b-b2cb-e5e512abc083",
   "metadata": {},
   "source": [
    "<img src=\"./athena-s3.png\" width=\"70%\">"
   ]
  },
  {
   "cell_type": "markdown",
   "id": "7f0222d5-e3cc-4939-9150-fa70a453d525",
   "metadata": {},
   "source": [
    "* Athena\n",
    "\n",
    "* S3 bucket\n",
    "\n",
    "\n"
   ]
  },
  {
   "cell_type": "markdown",
   "id": "6c136766-e8ba-4023-b34e-6f4f47bc28fa",
   "metadata": {},
   "source": [
    "<img src=\"./glue-aws.png\" width=\"70%\">"
   ]
  },
  {
   "cell_type": "markdown",
   "id": "0f1cf39c-2016-43c4-8a63-e1d272d842b7",
   "metadata": {},
   "source": [
    "\n",
    "* Glue \n",
    "    \n",
    "\n",
    "* Lakeformation\n"
   ]
  },
  {
   "cell_type": "markdown",
   "id": "9a78c1e3-aba6-4a76-a495-677fdffaf5db",
   "metadata": {},
   "source": [
    "### Event driven Pipeline"
   ]
  },
  {
   "cell_type": "markdown",
   "id": "85852eff-c2df-4d3a-a4b4-d1f47bd34db4",
   "metadata": {},
   "source": [
    "<img src=\"./reviewing-services.png\">"
   ]
  },
  {
   "cell_type": "markdown",
   "id": "1d8b402f-a254-4708-a86b-f01469dfb908",
   "metadata": {},
   "source": [
    "* Eventbridge\n",
    "       \n",
    "<img src=\"./eventrule.png\">"
   ]
  },
  {
   "cell_type": "markdown",
   "id": "1f8bd078-ded1-40b5-bfff-6d98e231d7c6",
   "metadata": {},
   "source": [
    "<img src=\"./eventscheduled.png\" width=\"70%\">"
   ]
  },
  {
   "cell_type": "markdown",
   "id": "d7515216-130b-4c23-bdd0-a9bbbfba0f83",
   "metadata": {},
   "source": [
    "* Lambda function\n"
   ]
  },
  {
   "cell_type": "markdown",
   "id": "4d5be622-de16-459a-ac76-a6e93397c6d4",
   "metadata": {},
   "source": [
    "* Cloudwatch \n"
   ]
  },
  {
   "cell_type": "markdown",
   "id": "199c73c7-3ef2-447b-8346-d962ccf66b22",
   "metadata": {},
   "source": [
    "### Security"
   ]
  },
  {
   "cell_type": "markdown",
   "id": "20a2e770-02ad-4169-a3e6-78ddc7fecaea",
   "metadata": {},
   "source": [
    "* A role is a way to grant specific permissions to entities (such as users, applications, or services) that can then assume that role and inherit its permissions. \n",
    "\n",
    "* Policy - A role has many policies.  A policy specifies the actions that are allowed or denied on AWS resources.  A policy can be attached to a role to specify what the service or user has access to.\n",
    "\n",
    "* A user - A user can also have many policies.  The difference between a user and a role is that a user is associated with a person, who has login credentials.  A role can attach to a service (like a lambda function, which has policies that give it certain permissions to use other services like Athena).\n",
    "\n",
    "* ACL (Access control lists) - attach to a specific bucket or object.  They can be used to specify how others can access the buckets and objects.  (Remember that an ACL is like a bouncer at a club, specifying who can enter).  "
   ]
  },
  {
   "cell_type": "markdown",
   "id": "ea9d517a-7128-4cb0-9f54-480c7f9a014d",
   "metadata": {},
   "source": [
    "### IAC Tools\n",
    "\n",
    "* Boto3\n",
    "\n",
    "    \n",
    "* Docker \n",
    "\n",
    "    \n",
    "* Dockerhub \n",
    "    * We can deploy our image to Dockerhub which stores these files.  And we can download (or pull) an image from dockerhub.\n",
    "\n",
    "* Elastic Container Registry (ECR)\n",
    "\n",
    "    \n",
    "* Serverless \n",
    "    * An IAC tool that allows us to set up our AWS stack.  For example, can create buckets, lambda functions, eventbridge rules, and establish permissions between these services.  Underneath it generates and calls AWS cloudformation, which directly generates the stack."
   ]
  }
 ],
 "metadata": {
  "kernelspec": {
   "display_name": "Python 3 (ipykernel)",
   "language": "python",
   "name": "python3"
  },
  "language_info": {
   "codemirror_mode": {
    "name": "ipython",
    "version": 3
   },
   "file_extension": ".py",
   "mimetype": "text/x-python",
   "name": "python",
   "nbconvert_exporter": "python",
   "pygments_lexer": "ipython3",
   "version": "3.9.12"
  }
 },
 "nbformat": 4,
 "nbformat_minor": 5
}
