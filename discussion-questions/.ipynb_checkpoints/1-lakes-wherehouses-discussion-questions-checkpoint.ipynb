{
 "cells": [
  {
   "cell_type": "markdown",
   "id": "0d170aa5-0187-462f-a8c4-a466cc03fa22",
   "metadata": {},
   "source": [
    "# Data Architecture Questions"
   ]
  },
  {
   "cell_type": "markdown",
   "id": "dd61f97e-bdea-46f0-92e8-d61518b455e5",
   "metadata": {},
   "source": [
    "### Introduction\n",
    "\n",
    "In this lesson, we'll ask you to write out, and then discuss some questions related to data architecture.\n",
    "\n",
    "* Remember to use the pyramid principal.  This means:\n",
    "* This means provide the `answers first`, or get to the answer within the first couple of sentences. \n",
    "* Start broadly and then go narrowly.\n",
    "* Oftentimes, its useful to start by thinking of the problem that is being solved.  For example, as alternative to this technology one could use...but the problem with that is...so instead we use this as it... \n",
    "* After stating the topic sentence, or listing a general overview, then expand upon your topic sentence."
   ]
  },
  {
   "cell_type": "markdown",
   "id": "4aee606c-d1d5-4db2-a253-81f1635e983a",
   "metadata": {},
   "source": [
    "### Our questions"
   ]
  },
  {
   "cell_type": "markdown",
   "id": "6ddaacdd-c265-4754-93c4-56b78851298e",
   "metadata": {},
   "source": [
    "1. What is a data lake?\n",
    "\n",
    "> Please write about 3 paragraphs.  What are the costs, benefits, etc"
   ]
  },
  {
   "cell_type": "code",
   "execution_count": null,
   "id": "65b684b1-06da-4865-8deb-95737f609495",
   "metadata": {},
   "outputs": [],
   "source": []
  },
  {
   "cell_type": "markdown",
   "id": "e533397a-fadc-40bc-a858-56e24df0d0b0",
   "metadata": {},
   "source": [
    "2. What is a data warehouse?\n",
    "* Same, explain the costs and benefits (add ~3 paragraphs)."
   ]
  },
  {
   "cell_type": "code",
   "execution_count": null,
   "id": "c2b73fe5-7592-4e2d-be62-8784dac80e6e",
   "metadata": {},
   "outputs": [],
   "source": []
  },
  {
   "cell_type": "markdown",
   "id": "8fd509d0-953a-4eb1-930e-9774160692cf",
   "metadata": {},
   "source": [
    "3. Why use an analytical database at all (as opposed to postgres)?"
   ]
  },
  {
   "cell_type": "code",
   "execution_count": null,
   "id": "b80b9f5b-b764-4db4-9285-274c59d1d358",
   "metadata": {},
   "outputs": [],
   "source": []
  },
  {
   "cell_type": "markdown",
   "id": "82fb4354-f9e3-4855-a5a6-74346cbe2685",
   "metadata": {},
   "source": [
    "4. What is the difference between OLAP and an analytical database?"
   ]
  },
  {
   "cell_type": "code",
   "execution_count": null,
   "id": "696c8040-3c45-41f5-a0ac-b8bafd1162e3",
   "metadata": {},
   "outputs": [],
   "source": []
  }
 ],
 "metadata": {
  "kernelspec": {
   "display_name": "Python 3 (ipykernel)",
   "language": "python",
   "name": "python3"
  },
  "language_info": {
   "codemirror_mode": {
    "name": "ipython",
    "version": 3
   },
   "file_extension": ".py",
   "mimetype": "text/x-python",
   "name": "python",
   "nbconvert_exporter": "python",
   "pygments_lexer": "ipython3",
   "version": "3.9.12"
  }
 },
 "nbformat": 4,
 "nbformat_minor": 5
}
