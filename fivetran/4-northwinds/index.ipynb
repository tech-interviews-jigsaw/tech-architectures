{
 "cells": [
  {
   "cell_type": "markdown",
   "id": "34cc4095-3343-4a2f-971a-fa663418ed29",
   "metadata": {},
   "source": [
    "# Connecting to Northwinds"
   ]
  },
  {
   "cell_type": "markdown",
   "id": "6fb055aa-91a7-4b2b-a9c7-68282e2de026",
   "metadata": {},
   "source": [
    "### Introduction"
   ]
  },
  {
   "cell_type": "markdown",
   "id": "2c942f7f-4b2f-46e0-8908-93ac735039bf",
   "metadata": {},
   "source": [
    "In this lesson, we'll try to connect to northwinds."
   ]
  },
  {
   "cell_type": "markdown",
   "id": "aab1e963-f357-44ff-8862-ef3462144d33",
   "metadata": {},
   "source": [
    "### Connecting to the database"
   ]
  },
  {
   "cell_type": "markdown",
   "id": "4a54613b-fcaf-4c54-8d5a-b3cbf848c471",
   "metadata": {},
   "source": [
    "The database is currently hosted on AWS.  If you have the psql client installed, you can connect to the database with the following."
   ]
  },
  {
   "cell_type": "markdown",
   "id": "a252c8b3-71c3-4da7-a0f9-85cf02ae9b3a",
   "metadata": {},
   "source": [
    "```sql\n",
    "psql -h northwinds.crd5vw1vref2.us-east-1.rds.amazonaws.com -p 5432 -U jigsaw\n",
    "```"
   ]
  },
  {
   "cell_type": "markdown",
   "id": "50fd95d2-ffbd-4d2f-bf15-ccd8452fd52f",
   "metadata": {},
   "source": [
    "The password is: `jigsawlabs`."
   ]
  },
  {
   "cell_type": "markdown",
   "id": "0ffe2909-b0f2-4f65-bf36-becb6bc72bec",
   "metadata": {},
   "source": [
    "### Setting it up with Fivetran"
   ]
  },
  {
   "cell_type": "markdown",
   "id": "09bf33a4-39a2-4fdd-94b6-37b07aa4abfb",
   "metadata": {},
   "source": [
    "Now to set this up with fivetran, we need to fill in the appropriate form with the above information."
   ]
  },
  {
   "cell_type": "markdown",
   "id": "a0c159c3-e954-452e-9300-713ba3759bee",
   "metadata": {},
   "source": [
    "When we worked with our pagila database, we filled in information like so."
   ]
  },
  {
   "cell_type": "markdown",
   "id": "17a58892-b133-46e5-8b16-030827af96ac",
   "metadata": {},
   "source": [
    "<img src=\"./pagila-db.png\" width=\"60%\">"
   ]
  },
  {
   "cell_type": "markdown",
   "id": "80215190-d301-4714-b538-8ef6427d0d2f",
   "metadata": {},
   "source": [
    "This time, we should call the schema `northwinds_rds`, use the host and port specifed above.  And set the user as `jigsaw` and password as `jigsawlabs`.  The database should be `postgres`. Make sure the information is correct, then click `Save and Test`."
   ]
  }
 ],
 "metadata": {
  "kernelspec": {
   "display_name": "Python 3 (ipykernel)",
   "language": "python",
   "name": "python3"
  },
  "language_info": {
   "codemirror_mode": {
    "name": "ipython",
    "version": 3
   },
   "file_extension": ".py",
   "mimetype": "text/x-python",
   "name": "python",
   "nbconvert_exporter": "python",
   "pygments_lexer": "ipython3",
   "version": "3.9.12"
  }
 },
 "nbformat": 4,
 "nbformat_minor": 5
}
