{
 "cells": [
  {
   "cell_type": "markdown",
   "id": "2efbb22e-b42a-496a-a345-52fce2be528c",
   "metadata": {},
   "source": [
    "# The ELT Pattern"
   ]
  },
  {
   "cell_type": "markdown",
   "id": "b356f0eb-a48e-4380-85a8-91383ff437af",
   "metadata": {},
   "source": [
    "### Introduction"
   ]
  },
  {
   "cell_type": "markdown",
   "id": "139b4bb4-c3f1-44c7-bac4-1de2cbea210a",
   "metadata": {},
   "source": [
    "As we know, in a company we generally have one database - our OLTP database - for hosting our web application, and data warehouse for storing and querying our analytics data -- our analytics database.  Now as data engineers, to use this separate database, we'll first have to move data there.  And to do so, we'll use a pattern called **Extract Load and Transform** or ELT for short.  Let's quickly go through the diagram below, and then we can move more slowly through the various steps."
   ]
  },
  {
   "cell_type": "markdown",
   "id": "b2520d0c-3373-487e-a67d-33afdc62ec3a",
   "metadata": {},
   "source": [
    "> With the diagram below, we first extract data from our OLTP or various APIS, and then load it into our OLAP (below the `source_tables` table.  Then we select data from our source table, transform it, and then load it into the target tables (here, the products table)."
   ]
  },
  {
   "cell_type": "markdown",
   "id": "7d5b118c-4491-48a9-b5f9-833df50919c0",
   "metadata": {},
   "source": [
    "<img src=\"./elt_paradigm.jpg\" width=\"80%\">"
   ]
  },
  {
   "cell_type": "markdown",
   "id": "b6692baf-54b5-4861-a022-71d090036d32",
   "metadata": {},
   "source": [
    "### 1. Extracting Data "
   ]
  },
  {
   "cell_type": "markdown",
   "id": "f25f07ad-c13a-4350-93ed-a33c4e632e7e",
   "metadata": {},
   "source": [
    "Let's start by just focusing on the extract portion, from the diagram above.  Extracting data just means to retrieve it.  We've seen various ways to retrieve our data.  Here are a couple of examples."
   ]
  },
  {
   "cell_type": "markdown",
   "id": "ac25b90b-a05a-4868-9832-9a0d101a1395",
   "metadata": {},
   "source": [
    "1. Extracting from APIs\n",
    "\n",
    "Remember that in an analytical database, we may want to select data from various outside sources, like Google Analytics to track website traffic, Mixpanel to see what users click on when clicking on our site, or Hubspot to track how users open emails, or responses during sales calls.  \n",
    "\n",
    "Each of these outside tools have an API that allow developers to *extract* the data."
   ]
  },
  {
   "cell_type": "markdown",
   "id": "78c38df0-59ab-4533-a265-0050049b2d13",
   "metadata": {},
   "source": [
    "```python\n",
    "import requests\n",
    "url = \"www.api.mixpanel.com\"\n",
    "requests.get(url)\n",
    "```"
   ]
  },
  {
   "cell_type": "markdown",
   "id": "8014d615-9831-46de-b895-b2bf4b99f454",
   "metadata": {},
   "source": [
    "2. Extracting from a database"
   ]
  },
  {
   "cell_type": "markdown",
   "id": "9cf95e2a-d449-45b2-9188-0c272d924ba3",
   "metadata": {},
   "source": [
    "Of course some of the data may also be in our application database, our OLTP, so we would need to extract data from our OLTP and load it into our OLAP as well.  For example, information about how much customers spend on various products, or our most popular products may be most available in the OLTP database.  We would want to extract that data for futher analysis."
   ]
  },
  {
   "cell_type": "markdown",
   "id": "1e2281da-ce7b-4ded-b4fb-99c367956bc5",
   "metadata": {},
   "source": [
    "```SQL\n",
    "SELECT * FROM orders;\n",
    "```"
   ]
  },
  {
   "cell_type": "markdown",
   "id": "d015fa8d-8d69-4e8a-9abf-92590b731e24",
   "metadata": {},
   "source": [
    "### 2. Loading Data"
   ]
  },
  {
   "cell_type": "markdown",
   "id": "d82c7319-f009-4feb-bd8d-5008a960e902",
   "metadata": {},
   "source": [
    "Once we extract the data, we then need to load the data into our OLAP database.  If we think about how we would accomplish this, we first need to use SQL to create the tables to load in our data, and we would then need to insert the data with  an `INSERT INTO` statement.  "
   ]
  },
  {
   "cell_type": "markdown",
   "id": "4a2ad818-bde0-4ab6-a195-b6dcd888b47c",
   "metadata": {},
   "source": [
    "### Transforming Data"
   ]
  },
  {
   "cell_type": "markdown",
   "id": "336229fe-b273-4b42-9f79-86abd52dd262",
   "metadata": {},
   "source": [
    "Now because we are loading the data directly into the database as it comes in from an API or our OLTP database, this data comes in unformatted, and directly loaded into the datbase.\n",
    "\n",
    "So after we load this raw data into the database, we'll then need to transform the data to get it into the structure we want.  As we know, when we get data from an API:\n",
    "\n",
    "* there is generally more data than we need,\n",
    "* that data may not be of the correct data type,\n",
    "* and the data may not be properly separated into different tables."
   ]
  },
  {
   "cell_type": "markdown",
   "id": "ec7bd11d-3b9d-4639-a657-3167705c1762",
   "metadata": {},
   "source": [
    "These are each different kinds of transformations that we may need to apply, once the data is loaded into our database.  Let's take another look at our ELT diagram, this time focusing on the `load`, `transform`, and `load again` steps."
   ]
  },
  {
   "cell_type": "markdown",
   "id": "7e5dee6c-e224-4045-aa50-950f6c30bbd1",
   "metadata": {},
   "source": [
    "<img src=\"./elt_paradigm.jpg\" width=\"80%\">"
   ]
  },
  {
   "cell_type": "markdown",
   "id": "cbff91ff-a539-4fcd-b652-1e05475f693e",
   "metadata": {},
   "source": [
    "What the diagram indicates is that we first load in some messy data to our database.  These original location where we load the data is called **staging**, and the tables with the unformatted data is called our **source tables**.  We then transform that data to load into a more properly formatted set of tables - often called our **mart tables**.\n",
    "\n",
    "Once we have our data formatted into our mart tables, we can then query our data, and generate reports from our properly formatted data to deliver to various stakeholders."
   ]
  },
  {
   "cell_type": "markdown",
   "id": "9aa38bc0-e62d-463c-b0e3-7d2a48925599",
   "metadata": {},
   "source": [
    "### Summary"
   ]
  },
  {
   "cell_type": "markdown",
   "id": "5b4ad134-6879-498b-840a-9f311f783d69",
   "metadata": {},
   "source": [
    "In this lesson, we learned about the ELT paradigm, where data is first extracted from the external sources like an API or an application database, and then loaded into the analytics database.  With the ELT pattern, the data simply transferred into the analytics database without much, if any, initial transformation.  Once loaded into the analytics database, then further transformations occur so that the data is well formatted for something like a data dashboard, or for reports for internal stakeholders."
   ]
  }
 ],
 "metadata": {
  "kernelspec": {
   "display_name": "Python 3 (ipykernel)",
   "language": "python",
   "name": "python3"
  },
  "language_info": {
   "codemirror_mode": {
    "name": "ipython",
    "version": 3
   },
   "file_extension": ".py",
   "mimetype": "text/x-python",
   "name": "python",
   "nbconvert_exporter": "python",
   "pygments_lexer": "ipython3",
   "version": "3.9.12"
  }
 },
 "nbformat": 4,
 "nbformat_minor": 5
}
