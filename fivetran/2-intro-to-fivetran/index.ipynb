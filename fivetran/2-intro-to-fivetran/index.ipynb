{
 "cells": [
  {
   "cell_type": "markdown",
   "id": "bd418231-017c-4ff9-b4cd-0dc02f38f84b",
   "metadata": {},
   "source": [
    "# Introduction to Fivetran "
   ]
  },
  {
   "cell_type": "markdown",
   "id": "3d04a360-d6f1-4a7d-807a-7efabbb5f5bc",
   "metadata": {},
   "source": [
    "### Introduction"
   ]
  },
  {
   "cell_type": "markdown",
   "id": "5398644f-3935-4abb-8f8d-c5d143b0fce3",
   "metadata": {},
   "source": [
    "When learning about the extract load transform paradigm, we saw that the first step is to pull from multiple different sources -- whether APIs or our application database -- and load this data into our data warehouse."
   ]
  },
  {
   "cell_type": "markdown",
   "id": "7fea98b3-18fd-47d1-904a-79599d2602fb",
   "metadata": {},
   "source": [
    "> We can see this by focusing on the section in the gray box below."
   ]
  },
  {
   "cell_type": "markdown",
   "id": "23a3be47-1df9-42a6-82cb-6c2a1914dcc9",
   "metadata": {},
   "source": [
    "<img src=\"./explort_and_load.jpg\" width=\"80%\">"
   ]
  },
  {
   "cell_type": "markdown",
   "id": "1e298efd-4633-4459-b32b-362a5350cb44",
   "metadata": {},
   "source": [
    "This step is called extraction and loading, or EL for short, and is what Fivetran will accomplish for us."
   ]
  },
  {
   "cell_type": "markdown",
   "id": "774ce0cc-12cb-4413-a525-38bda83838a2",
   "metadata": {},
   "source": [
    "### EL Tools"
   ]
  },
  {
   "cell_type": "markdown",
   "id": "691c8b70-01c1-4bb5-8f10-6004000d421f",
   "metadata": {},
   "source": [
    "These EL tools are supposed to save us the effort of extrating and loading, by doing it for us.  \n",
    "\n",
    "If you think about the various external APIs that companies rely on, and would like to load into their database, many of these external APIs are the same.  For example, many companies use salesforce or hubspot for their CRM, Google Analytics or Mixpanel for their customer analytics service, or Stripe or Paypal for their billing service.  \n",
    "\n",
    "Instead of every company re-implementing the same extraction and loading work, EL products have been built to perform this work of extracting data and loading it into an analytics database automatically."
   ]
  },
  {
   "cell_type": "markdown",
   "id": "aae4bc08-8b87-4fa2-b090-a9ef03e3544d",
   "metadata": {},
   "source": [
    "We can see this if we look at the diagram below, which shows how our EL tool can pull from data sources over on the left, and load the data into various analytics databases on the right."
   ]
  },
  {
   "cell_type": "markdown",
   "id": "f041f208-9a15-4c28-b066-9989ce8f4bd0",
   "metadata": {},
   "source": [
    "<img src=\"./fivetran-connecting.png\" width=\"60%\">"
   ]
  },
  {
   "cell_type": "markdown",
   "id": "9fb0f88e-789a-4257-9272-fa15cf97978a",
   "metadata": {},
   "source": [
    "At the center of the diagram sits Fivetran, an extract and load tool (EL tool).  Fivetran will take various sources of data like Facebook, Google Analytics, or even our postgres database, and then load this data into our OLAP database like Amazon Redshift or snowflake."
   ]
  },
  {
   "cell_type": "markdown",
   "id": "79579b90-018e-45ca-bcf7-ea4b18140423",
   "metadata": {},
   "source": [
    "So the work of extracting this with Python or SQL code will be largely performed for us.  Instead, we'll just need to enter their API keys, and some authentication information, and the extraction and loading will be performed performed automatically.   \n",
    "\n",
    "> There are a suite of EL tools that are alternatives to Fivetran, like Stitch and Meltano.  "
   ]
  },
  {
   "cell_type": "markdown",
   "id": "2fcce5d3-2b32-4faf-bed9-d836692c54d3",
   "metadata": {},
   "source": [
    "And let's take a look at how an EL tool fits into our broader data pipeline."
   ]
  },
  {
   "cell_type": "markdown",
   "id": "fc161829-7062-4664-894b-bfafa7dfbacf",
   "metadata": {},
   "source": [
    "<img src=\"./airflow-diagram.png\">"
   ]
  },
  {
   "cell_type": "markdown",
   "id": "910abdd0-9069-4129-a99c-47c283afa5da",
   "metadata": {},
   "source": [
    "So you can see that fivetran is another ingestion layer tool - like airflow.  The difference is that where airflow is used for moving data from custom apis -- we can use fivetran to move data from more typical apis like hubspot or mixpanel.  (And businesses can use also use fivetran when they don't mind paying for it's services.)"
   ]
  },
  {
   "cell_type": "markdown",
   "id": "f29d6fd5-7f31-4c5b-a9a2-b979db00789f",
   "metadata": {},
   "source": [
    "### Getting Setup with Fivetran"
   ]
  },
  {
   "cell_type": "markdown",
   "id": "4a83111f-79aa-4f17-b9eb-30d1c02def41",
   "metadata": {},
   "source": [
    "Ok, now let's get started with Fivetran.  We can do so by going to the Fivetran signup page -- www.fivetran.com/signup."
   ]
  },
  {
   "cell_type": "markdown",
   "id": "b8905c2e-f248-4197-9704-2c5e5d42c054",
   "metadata": {},
   "source": [
    "> <img src=\"./fivetran-signup.png\" width=\"60%\">"
   ]
  },
  {
   "cell_type": "markdown",
   "id": "033fac3d-5596-4733-91a9-b176a334c063",
   "metadata": {},
   "source": [
    "From here, we'll be taken to the welcome screen."
   ]
  },
  {
   "cell_type": "markdown",
   "id": "c8509eb8-4c8f-478c-84b4-660c4f5258e4",
   "metadata": {},
   "source": [
    "<img src=\"./fivetran-welcome.png\" width=\"60%\">"
   ]
  },
  {
   "cell_type": "markdown",
   "id": "1df35b56-3d62-4253-997a-ef6e5f3001af",
   "metadata": {},
   "source": [
    "And from there, can can click on `Setup a Connector`.  Once we do, we can see that there are various external sources for us to connect our services into our data warehouse."
   ]
  },
  {
   "cell_type": "markdown",
   "id": "5ca79674-9271-4dfe-a4c5-164a3bff736c",
   "metadata": {},
   "source": [
    "<img src=\"./data-sources.png\" width=\"70%\">"
   ]
  },
  {
   "cell_type": "markdown",
   "id": "9e14f993-9b3d-4d6e-b936-95756d74bdca",
   "metadata": {},
   "source": [
    "What's nice about a tool like fivetran is that it knows each of these external services in detail, and can create the relational tables relevant to each service in our database.  We can see this, by Googling something like `fivetran shopify`.  Doing so will take us to the following link, where if we scroll down we can see the various tables already setup for us."
   ]
  },
  {
   "cell_type": "markdown",
   "id": "ef77d491-974a-4447-88a4-5c94be3db125",
   "metadata": {},
   "source": [
    "<img src=\"./erd-shopify.png\" width=\"70%\">"
   ]
  },
  {
   "cell_type": "markdown",
   "id": "3202b2d5-154c-46bd-84a1-6ea13d781729",
   "metadata": {},
   "source": [
    "If we already had a shopify store, we could simply connect use our API keys or authentication to connect our shopify store to our analytics database.  Fivetran will create the respective tables for us, and load our data into an analytics database."
   ]
  },
  {
   "cell_type": "markdown",
   "id": "98974184-e1e7-4fe6-b52c-5f1392246fc1",
   "metadata": {},
   "source": [
    "Of course, to perform something like this, we'll not only need to have an external source of data like shopify setup, but will also need an analytics database like snowflake set up. "
   ]
  },
  {
   "cell_type": "markdown",
   "id": "00c0865e-9e88-428f-a650-ee58f0ff9e36",
   "metadata": {},
   "source": [
    "### Summary"
   ]
  },
  {
   "cell_type": "markdown",
   "id": "db0d679c-d2a8-49f6-9958-3eb85f6ef284",
   "metadata": {},
   "source": [
    "In this lesson, we learned about extract and load tools.  These tools have knowledge of various external data sources, and then automate pulling the data and creating the relevant tables to load into an analytics database.  These are called EL tools "
   ]
  }
 ],
 "metadata": {
  "kernelspec": {
   "display_name": "Python 3 (ipykernel)",
   "language": "python",
   "name": "python3"
  },
  "language_info": {
   "codemirror_mode": {
    "name": "ipython",
    "version": 3
   },
   "file_extension": ".py",
   "mimetype": "text/x-python",
   "name": "python",
   "nbconvert_exporter": "python",
   "pygments_lexer": "ipython3",
   "version": "3.9.12"
  }
 },
 "nbformat": 4,
 "nbformat_minor": 5
}
