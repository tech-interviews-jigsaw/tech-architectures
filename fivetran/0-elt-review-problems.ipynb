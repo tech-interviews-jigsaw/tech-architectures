{
 "cells": [
  {
   "cell_type": "markdown",
   "id": "13e8a157-a354-42f5-8ca7-5cf654df4322",
   "metadata": {},
   "source": [
    "# ELT Review Problems"
   ]
  },
  {
   "cell_type": "markdown",
   "id": "cc77265d-3dc0-4caf-8b9b-a813a71f30a7",
   "metadata": {},
   "source": [
    "1. Describe the ELT pattern.\n",
    "\n",
    "> What is it?  Describe each of the three steps."
   ]
  },
  {
   "cell_type": "markdown",
   "id": "0b4dd8d0-b2ba-417b-bc09-fe7df0526b03",
   "metadata": {},
   "source": [
    "2. Describe the ETL pattern."
   ]
  },
  {
   "cell_type": "markdown",
   "id": "80a638d3-126f-4fdf-8f1c-b8ac79baae13",
   "metadata": {},
   "source": [
    "3. What are some of the benefits of the ELT pattern over ETL?"
   ]
  },
  {
   "cell_type": "markdown",
   "id": "f47d856e-7366-420b-93a4-7884d05cd48b",
   "metadata": {},
   "source": [
    "4. What are some of the changes in technology that allowed ELT to emerge over ETL over the past few years?"
   ]
  }
 ],
 "metadata": {
  "kernelspec": {
   "display_name": "Python 3 (ipykernel)",
   "language": "python",
   "name": "python3"
  },
  "language_info": {
   "codemirror_mode": {
    "name": "ipython",
    "version": 3
   },
   "file_extension": ".py",
   "mimetype": "text/x-python",
   "name": "python",
   "nbconvert_exporter": "python",
   "pygments_lexer": "ipython3",
   "version": "3.9.7"
  }
 },
 "nbformat": 4,
 "nbformat_minor": 5
}
