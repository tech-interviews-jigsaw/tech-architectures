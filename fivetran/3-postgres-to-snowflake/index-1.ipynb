{
 "cells": [
  {
   "cell_type": "markdown",
   "id": "ff9a4cd1-719d-4b0c-808f-d7cea98ecd00",
   "metadata": {},
   "source": [
    "# Northwinds Database"
   ]
  },
  {
   "cell_type": "markdown",
   "id": "cd552bec-317c-4851-bb96-3e82ee6f7aa3",
   "metadata": {},
   "source": [
    "### Introduction"
   ]
  },
  {
   "cell_type": "markdown",
   "id": "0626e473-6580-4ff3-a120-2da13cfefb35",
   "metadata": {},
   "source": [
    "In this lesson, we'll use fivetran to pull data from our northinds database and load it into our snowflake instance let's get started."
   ]
  },
  {
   "cell_type": "markdown",
   "id": "be96e6f7-5b53-40c5-b403-a8717cce5624",
   "metadata": {},
   "source": [
    "### Connecting to the database"
   ]
  },
  {
   "cell_type": "markdown",
   "id": "fbd40de7-1262-41e0-ba99-b1d1a0582588",
   "metadata": {},
   "source": [
    "Before working with Fivetran let's first just connect to our database using postgres.  For this lesson we'll use the Northwinds database, hosted on AWS.  The  database is a sample database for a standard business.  \n",
    "\n",
    "> Information about the northwinds database can be found [here](https://en.wikiversity.org/wiki/Database_Examples/Northwind)."
   ]
  },
  {
   "cell_type": "markdown",
   "id": "839f93f6-6db5-4185-90a0-bbb8b6bfa55d",
   "metadata": {},
   "source": [
    "Ok, we can use postgres to log into our database with the following:"
   ]
  },
  {
   "cell_type": "markdown",
   "id": "c832bd22-d972-445f-a2fe-ab1bd2dc6c42",
   "metadata": {},
   "source": [
    "```\n",
    "psql -h northwinds.crd5vw1vref2.us-east-1.rds.amazonaws.com -U jigsaw -d postgres\n",
    "```\n",
    "\n",
    "The related password is: `jigsawlabs`."
   ]
  },
  {
   "cell_type": "markdown",
   "id": "b7cf179e-d647-4665-a4a9-78c78cf101e7",
   "metadata": {},
   "source": [
    "Now, the northwinds database we just logged into is our OLTP.  Next, we'll want to use Fivetran to load this data into an analytical database.  That way, we can potentially combine our data with other external data sources."
   ]
  },
  {
   "cell_type": "markdown",
   "id": "279ed187-184a-4a24-8b1f-3e6414ffc46c",
   "metadata": {},
   "source": [
    "### Loading with Fivetran"
   ]
  },
  {
   "cell_type": "markdown",
   "id": "16a05bbd-d0c3-4d18-8824-c8363460af72",
   "metadata": {},
   "source": [
    "To load our data from RDS to our analytical database we'll use Fivetran.  So after we log in, we should see the prompt to set up our connector."
   ]
  },
  {
   "cell_type": "markdown",
   "id": "d046e3df-94ea-4578-b0ee-c5ae03ba69f4",
   "metadata": {},
   "source": [
    "> <img src=\"./setup-connector.png\" width=\"60%\">"
   ]
  },
  {
   "cell_type": "markdown",
   "id": "0116e155-df2d-4e7f-ae75-9cd5e984ad59",
   "metadata": {},
   "source": [
    "And from there, we want to specify the source of our data.  In this case, our datasource is Postgres RDS.  As RDS is the name of the AWS service we are connecting into."
   ]
  },
  {
   "cell_type": "markdown",
   "id": "44e33ed1-57dc-459c-9897-5d1713977206",
   "metadata": {},
   "source": [
    "> <img src=\"./postgres-rds.png\" width=\"85%\">"
   ]
  },
  {
   "cell_type": "markdown",
   "id": "7c3afe9b-e286-42a7-82da-35c4431d01ee",
   "metadata": {},
   "source": [
    "So click on `Postgres RDS` and then click `Continue`.  Upon doing so, we'll be taken to the following screen:"
   ]
  },
  {
   "cell_type": "markdown",
   "id": "c2d4722b-8eb8-49a2-b9f5-493f38ca46f7",
   "metadata": {},
   "source": [
    "> <img src=\"./pagila-db.png\" width=\"60%\">"
   ]
  },
  {
   "cell_type": "markdown",
   "id": "f8fa439a-3887-4379-af9e-5e622d796971",
   "metadata": {},
   "source": [
    "In the form above, we essentially enter the same information we used to log into the database with postgres.  Specify the host url, the port, the user, and the same password:\n",
    "\n",
    "* host_url: northwinds.crd5vw1vref2.us-east-1.rds.amazonaws.com\n",
    "* port: 5432\n",
    "* user: jigsaw\n",
    "* database: postgres\n",
    "* password: `jigsawlabs`"
   ]
  },
  {
   "cell_type": "markdown",
   "id": "32018abf-d596-4bc1-8f7c-d00f63e0d24f",
   "metadata": {},
   "source": [
    "> For destination schema, you can use `northwinds_rds` instead of `postgres_rds`."
   ]
  },
  {
   "cell_type": "markdown",
   "id": "097c7260-9729-4a06-9a37-643c610dd8f9",
   "metadata": {},
   "source": [
    "Now, Fivetran will not just migrate our data over one time, but also track any changes to our data in postgres, and then copy over this data to snowflake.  Later down in the form, it asks us how to keep track of changes to our data in RDS.  Let's choose the first option, which is XMIN, as it is easiest to set up."
   ]
  },
  {
   "cell_type": "markdown",
   "id": "1dc2b5f4-124d-47e7-ade3-32ff4a335135",
   "metadata": {},
   "source": [
    "> <img src=\"./x-min.png\" width=\"80%\">"
   ]
  },
  {
   "cell_type": "markdown",
   "id": "c2b5c8cc-7556-4e48-a37b-f08d1f0f9ac2",
   "metadata": {},
   "source": [
    "When clicking Save and Test, it will ask to validate the TLS certificate.  Check the first radio button, and then continue.  After a couple of minutes, we should see something like the following:"
   ]
  },
  {
   "cell_type": "markdown",
   "id": "ce355db4-4359-407c-a892-849af5db76b1",
   "metadata": {},
   "source": [
    "<img src=\"./connection-passed.png\" width=\"40%\">"
   ]
  },
  {
   "cell_type": "markdown",
   "id": "749997f9-8826-4dc9-96e5-fcdd4568e66d",
   "metadata": {
    "tags": []
   },
   "source": [
    "### Connect to Snowflake"
   ]
  },
  {
   "cell_type": "markdown",
   "id": "72b20e41-1125-407d-8280-f7ddee0e5ad4",
   "metadata": {},
   "source": [
    "Ok, now that we were able to connect to our source data, in postgres RDS, the next step is to connect to our destination database.  For us, that destination is snowflake, so let's select that."
   ]
  },
  {
   "cell_type": "markdown",
   "id": "0cbf94bf-71ec-4b54-8e8a-6956ec2abd51",
   "metadata": {},
   "source": [
    "<img src=\"./snowflake-dest.png\" width=\"80%\">"
   ]
  },
  {
   "cell_type": "markdown",
   "id": "07257fb8-9ca0-4606-ae39-236bbe98fe37",
   "metadata": {},
   "source": [
    "Then we are given instructions to pass into snowflake.  Most of the information in the provided script works fine, but we should change the database name from `Fivetran` to something particular to our domain.  Let's copy over the script into snowflake, and then change the database name to `NORTHWINDS`."
   ]
  },
  {
   "cell_type": "markdown",
   "id": "85410523-146c-4c7d-ba55-075269301ee3",
   "metadata": {},
   "source": [
    "> <img src=\"./pagila-inc.png\" width=\"80%\">"
   ]
  },
  {
   "cell_type": "markdown",
   "id": "59f73da9-d515-4ccd-9e21-4aefee5695d8",
   "metadata": {},
   "source": [
    "> Notice in the query that we are using the `set` keyword to set certain variables, which are then referenced with the `$variable_name` in the script below."
   ]
  },
  {
   "cell_type": "markdown",
   "id": "da186b86-b86e-4948-9516-faed77d3643c",
   "metadata": {},
   "source": [
    "When the database name has been changed to `NORTHWINDS`, then select `All queries` and click `Run`.  After doing so, we can click the refresh button on our database objects panel, and we should see the `NORTHWINDS` database listed there. "
   ]
  },
  {
   "cell_type": "markdown",
   "id": "d11ecab5-6b16-4920-ba03-472a41cbc545",
   "metadata": {},
   "source": [
    "> <img src=\"./refresh.png\" width=\"60%\">"
   ]
  },
  {
   "cell_type": "markdown",
   "id": "40883fe3-9243-495c-b856-a02e32e5d9ca",
   "metadata": {},
   "source": [
    "Now that we have created the database in Snowflake, and also created the related credentials for snowflake to access this database, we can now enter these credentials into the fivetran form.\n",
    "\n",
    "To do so, we enter the url where our snowflake is hosted, the port 443.  Notice that the `User` and `Role` matches the values specified in our variables in our snowflake script.  The password should also match the password specified above, `password123`.  "
   ]
  },
  {
   "cell_type": "markdown",
   "id": "cd06e3f0-5860-4498-b350-93a921b3d359",
   "metadata": {},
   "source": [
    "<img src=\"./snowflake-fivetran.png\" width=\"60%\">"
   ]
  },
  {
   "cell_type": "markdown",
   "id": "709235c7-073c-445f-b99b-033dd682ebd5",
   "metadata": {},
   "source": [
    "After filling out the form, we can click `Save and Test`, and we can see that all tests passed."
   ]
  },
  {
   "cell_type": "markdown",
   "id": "787de461-0311-478b-8ca1-6f520088865e",
   "metadata": {},
   "source": [
    "<img src=\"./all-tests.png\" width=\"50%\">"
   ]
  },
  {
   "cell_type": "markdown",
   "id": "50696121-f807-484e-9367-2ee33b1f823c",
   "metadata": {},
   "source": [
    "From here, we can view the destination."
   ]
  },
  {
   "cell_type": "markdown",
   "id": "8b32d144-c696-4b39-8ff2-7cf8bf31a90e",
   "metadata": {},
   "source": [
    "<img src=\"./destination.png\" width=\"60%\">"
   ]
  },
  {
   "cell_type": "markdown",
   "id": "85abacb3-7450-4645-be8f-779cbda76142",
   "metadata": {},
   "source": [
    "### Sync Data"
   ]
  },
  {
   "cell_type": "markdown",
   "id": "4547485a-6e74-4412-ad35-f2180732123e",
   "metadata": {},
   "source": [
    "Now it's time to sync our data.  Let's click on the connectors tab and then select `NORTHWINDS_RDS`."
   ]
  },
  {
   "cell_type": "markdown",
   "id": "74f9dc35-1555-437c-9d1f-90270bc6cc45",
   "metadata": {},
   "source": [
    "> <img src=\"./pagila_connector.png\" width=\"80%\">"
   ]
  },
  {
   "cell_type": "markdown",
   "id": "ca53d550-1c7d-4cc6-bda9-7a82b27e0e57",
   "metadata": {},
   "source": [
    "From here, click `Start Initial Sync`."
   ]
  },
  {
   "cell_type": "markdown",
   "id": "0d9c69d1-e31d-499c-9281-62ec02ae4e91",
   "metadata": {},
   "source": [
    "<img src=\"./postgres-northwinds.png\" width=\"100%\">"
   ]
  },
  {
   "cell_type": "markdown",
   "id": "cf294ab8-9171-40fd-8fe4-32675e16f342",
   "metadata": {},
   "source": [
    "When completed, Fivetran will send us an alert via email.  And we can see that it in the top right it says `Last Sync Completed xxx minutes ago`."
   ]
  },
  {
   "cell_type": "markdown",
   "id": "8fbaa682-6f2c-4a9c-b1a5-a5232fe55d22",
   "metadata": {},
   "source": [
    "<img src=\"./completed-sync.png\" width=\"60%\">"
   ]
  },
  {
   "cell_type": "markdown",
   "id": "84c0618d-6313-4f1f-ba7a-9a0240c712fe",
   "metadata": {},
   "source": [
    "But the real test is to see our data moved into the snowflake database."
   ]
  },
  {
   "cell_type": "markdown",
   "id": "ce283b04-bf0b-4df4-bbef-7e603075d96b",
   "metadata": {},
   "source": [
    "### Viewing our Data"
   ]
  },
  {
   "cell_type": "markdown",
   "id": "56747c9d-1312-430b-b014-83792363fbd2",
   "metadata": {},
   "source": [
    "So log into snowflake and take a look.  We should see in our `NORTHWINDS` is a schema for `NORTHWINDS_RDS`."
   ]
  },
  {
   "cell_type": "markdown",
   "id": "1713f3ba-c448-4303-a8c7-8365122c4c72",
   "metadata": {},
   "source": [
    "> <img src=\"./refresh.png\" width=\"60%\">"
   ]
  },
  {
   "cell_type": "markdown",
   "id": "64bfb7ba-ba40-4494-91fc-50bcf485e735",
   "metadata": {},
   "source": [
    "And then if we click on `Databases`, towards the top left followed by `NORTHWINDS`, we can see that our data was in fact loaded.  Looking at the image below, we can see the table, the related schema, and the number of rows in each table."
   ]
  },
  {
   "cell_type": "markdown",
   "id": "8a36e248-c40e-42d2-9601-c42d72f03541",
   "metadata": {},
   "source": [
    "> <img src=\"./pagila_inc.png\" width=\"80%\">"
   ]
  },
  {
   "cell_type": "markdown",
   "id": "4a86834c-dc8d-41e6-a418-1fa9298d5a8d",
   "metadata": {},
   "source": [
    "### Summary"
   ]
  },
  {
   "cell_type": "markdown",
   "id": "20fbedce-3b61-49e9-b804-905d0132d10f",
   "metadata": {},
   "source": [
    "In this lesson, we saw how we can migrate data from our OLTP database to our OLAP database using Fivetran.  With Fivetran we needed to specify our credentials first for our OLTP database, hosted on Amazon RDS.  And these credentials were similar to those we used to login into our RDS database with the psql command.  From there, we had to set up our destination  -- in our case snowflake.  To accomplish this, we ran the snowflake script in the database provided by Fivetran, and then we entered the corresponding credentials in the Fivetran form.\n",
    "\n",
    "Finally, we synced our data, and viewed our data in snowflake."
   ]
  },
  {
   "cell_type": "markdown",
   "id": "14e81d23-1b20-44d9-a2a8-dd7b8fc02985",
   "metadata": {
    "tags": []
   },
   "source": [
    "### Resources\n",
    "\n",
    "[Snowflake Session Variables Identifier Function](https://dwgeek.com/how-to-write-parameterized-queries-in-snowflake.html/)\n",
    "\n",
    "[Pagila DB](https://github.com/devrimgunduz/pagila)\n",
    "\n",
    "[AWS RDS Workshop](https://rdspg.workshop.aws/)"
   ]
  }
 ],
 "metadata": {
  "kernelspec": {
   "display_name": "Python 3 (ipykernel)",
   "language": "python",
   "name": "python3"
  },
  "language_info": {
   "codemirror_mode": {
    "name": "ipython",
    "version": 3
   },
   "file_extension": ".py",
   "mimetype": "text/x-python",
   "name": "python",
   "nbconvert_exporter": "python",
   "pygments_lexer": "ipython3",
   "version": "3.9.12"
  }
 },
 "nbformat": 4,
 "nbformat_minor": 5
}
